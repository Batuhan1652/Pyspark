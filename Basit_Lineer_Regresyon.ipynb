{
 "cells": [
  {
   "cell_type": "code",
   "execution_count": 1,
   "id": "2b818fc9",
   "metadata": {},
   "outputs": [],
   "source": [
    "import findspark\n",
    "findspark.init()"
   ]
  },
  {
   "cell_type": "code",
   "execution_count": 2,
   "id": "8da8b757",
   "metadata": {},
   "outputs": [
    {
     "name": "stdout",
     "output_type": "stream",
     "text": [
      "22/10/18 09:37:16 WARN Utils: Your hostname, batuhan-VirtualBox resolves to a loopback address: 127.0.1.1; using 10.0.2.15 instead (on interface enp0s3)\n",
      "22/10/18 09:37:16 WARN Utils: Set SPARK_LOCAL_IP if you need to bind to another address\n"
     ]
    },
    {
     "name": "stderr",
     "output_type": "stream",
     "text": [
      "Setting default log level to \"WARN\".\n",
      "To adjust logging level use sc.setLogLevel(newLevel). For SparkR, use setLogLevel(newLevel).\n"
     ]
    },
    {
     "name": "stdout",
     "output_type": "stream",
     "text": [
      "22/10/18 09:37:18 WARN NativeCodeLoader: Unable to load native-hadoop library for your platform... using builtin-java classes where applicable\n",
      "22/10/18 09:37:19 WARN Utils: Service 'SparkUI' could not bind on port 4040. Attempting port 4041.\n"
     ]
    }
   ],
   "source": [
    "from pyspark.sql import SparkSession\n",
    "spark = SparkSession.builder \\\n",
    ".master(\"local[4]\") \\\n",
    ".appName(\"Basit_Regresyon\") \\\n",
    ".config(\"spark.executor.memory\",\"5g\") \\\n",
    ".config(\"spark.driver.memory\", \"4g\") \\\n",
    ".getOrCreate()"
   ]
  },
  {
   "cell_type": "markdown",
   "id": "00ba9c11",
   "metadata": {},
   "source": [
    "# 1. Read The Dataset"
   ]
  },
  {
   "cell_type": "code",
   "execution_count": 3,
   "id": "a2ce1f10",
   "metadata": {},
   "outputs": [
    {
     "name": "stderr",
     "output_type": "stream",
     "text": [
      "                                                                                \r"
     ]
    }
   ],
   "source": [
    "df = spark.read.format(\"csv\") \\\n",
    ".option(\"header\", True) \\\n",
    ".option(\"sep\",\",\") \\\n",
    ".option(\"inferSchema\",True) \\\n",
    ".load(\"/home/batuhan/Desktop/datalar/Advertising2.csv\")"
   ]
  },
  {
   "cell_type": "code",
   "execution_count": 4,
   "id": "b9d0151e",
   "metadata": {},
   "outputs": [
    {
     "data": {
      "text/html": [
       "<div>\n",
       "<style scoped>\n",
       "    .dataframe tbody tr th:only-of-type {\n",
       "        vertical-align: middle;\n",
       "    }\n",
       "\n",
       "    .dataframe tbody tr th {\n",
       "        vertical-align: top;\n",
       "    }\n",
       "\n",
       "    .dataframe thead th {\n",
       "        text-align: right;\n",
       "    }\n",
       "</style>\n",
       "<table border=\"1\" class=\"dataframe\">\n",
       "  <thead>\n",
       "    <tr style=\"text-align: right;\">\n",
       "      <th></th>\n",
       "      <th>CO</th>\n",
       "      <th>TV</th>\n",
       "      <th>Radio</th>\n",
       "      <th>Newspaper</th>\n",
       "      <th>Sales</th>\n",
       "    </tr>\n",
       "  </thead>\n",
       "  <tbody>\n",
       "    <tr>\n",
       "      <th>0</th>\n",
       "      <td>1</td>\n",
       "      <td>230.1</td>\n",
       "      <td>37.8</td>\n",
       "      <td>69.2</td>\n",
       "      <td>22.1</td>\n",
       "    </tr>\n",
       "    <tr>\n",
       "      <th>1</th>\n",
       "      <td>2</td>\n",
       "      <td>44.5</td>\n",
       "      <td>39.3</td>\n",
       "      <td>45.1</td>\n",
       "      <td>10.4</td>\n",
       "    </tr>\n",
       "    <tr>\n",
       "      <th>2</th>\n",
       "      <td>3</td>\n",
       "      <td>17.2</td>\n",
       "      <td>45.9</td>\n",
       "      <td>69.3</td>\n",
       "      <td>9.3</td>\n",
       "    </tr>\n",
       "    <tr>\n",
       "      <th>3</th>\n",
       "      <td>4</td>\n",
       "      <td>151.5</td>\n",
       "      <td>41.3</td>\n",
       "      <td>58.5</td>\n",
       "      <td>18.5</td>\n",
       "    </tr>\n",
       "    <tr>\n",
       "      <th>4</th>\n",
       "      <td>5</td>\n",
       "      <td>180.8</td>\n",
       "      <td>10.8</td>\n",
       "      <td>58.4</td>\n",
       "      <td>12.9</td>\n",
       "    </tr>\n",
       "    <tr>\n",
       "      <th>5</th>\n",
       "      <td>6</td>\n",
       "      <td>8.7</td>\n",
       "      <td>48.9</td>\n",
       "      <td>75.0</td>\n",
       "      <td>7.2</td>\n",
       "    </tr>\n",
       "    <tr>\n",
       "      <th>6</th>\n",
       "      <td>7</td>\n",
       "      <td>57.5</td>\n",
       "      <td>32.8</td>\n",
       "      <td>23.5</td>\n",
       "      <td>11.8</td>\n",
       "    </tr>\n",
       "    <tr>\n",
       "      <th>7</th>\n",
       "      <td>8</td>\n",
       "      <td>120.2</td>\n",
       "      <td>19.6</td>\n",
       "      <td>11.6</td>\n",
       "      <td>13.2</td>\n",
       "    </tr>\n",
       "    <tr>\n",
       "      <th>8</th>\n",
       "      <td>9</td>\n",
       "      <td>8.6</td>\n",
       "      <td>2.1</td>\n",
       "      <td>1.0</td>\n",
       "      <td>4.8</td>\n",
       "    </tr>\n",
       "    <tr>\n",
       "      <th>9</th>\n",
       "      <td>10</td>\n",
       "      <td>199.8</td>\n",
       "      <td>2.6</td>\n",
       "      <td>21.2</td>\n",
       "      <td>10.6</td>\n",
       "    </tr>\n",
       "  </tbody>\n",
       "</table>\n",
       "</div>"
      ],
      "text/plain": [
       "   CO     TV  Radio  Newspaper  Sales\n",
       "0   1  230.1   37.8       69.2   22.1\n",
       "1   2   44.5   39.3       45.1   10.4\n",
       "2   3   17.2   45.9       69.3    9.3\n",
       "3   4  151.5   41.3       58.5   18.5\n",
       "4   5  180.8   10.8       58.4   12.9\n",
       "5   6    8.7   48.9       75.0    7.2\n",
       "6   7   57.5   32.8       23.5   11.8\n",
       "7   8  120.2   19.6       11.6   13.2\n",
       "8   9    8.6    2.1        1.0    4.8\n",
       "9  10  199.8    2.6       21.2   10.6"
      ]
     },
     "execution_count": 4,
     "metadata": {},
     "output_type": "execute_result"
    }
   ],
   "source": [
    "df.toPandas().head(10)"
   ]
  },
  {
   "cell_type": "code",
   "execution_count": 5,
   "id": "adefc968",
   "metadata": {},
   "outputs": [],
   "source": [
    "#df = df.drop(\"CO\")"
   ]
  },
  {
   "cell_type": "code",
   "execution_count": 6,
   "id": "408893e8",
   "metadata": {},
   "outputs": [
    {
     "data": {
      "text/html": [
       "<div>\n",
       "<style scoped>\n",
       "    .dataframe tbody tr th:only-of-type {\n",
       "        vertical-align: middle;\n",
       "    }\n",
       "\n",
       "    .dataframe tbody tr th {\n",
       "        vertical-align: top;\n",
       "    }\n",
       "\n",
       "    .dataframe thead th {\n",
       "        text-align: right;\n",
       "    }\n",
       "</style>\n",
       "<table border=\"1\" class=\"dataframe\">\n",
       "  <thead>\n",
       "    <tr style=\"text-align: right;\">\n",
       "      <th></th>\n",
       "      <th>CO</th>\n",
       "      <th>TV</th>\n",
       "      <th>Radio</th>\n",
       "      <th>Newspaper</th>\n",
       "      <th>Sales</th>\n",
       "    </tr>\n",
       "  </thead>\n",
       "  <tbody>\n",
       "    <tr>\n",
       "      <th>0</th>\n",
       "      <td>1</td>\n",
       "      <td>230.1</td>\n",
       "      <td>37.8</td>\n",
       "      <td>69.2</td>\n",
       "      <td>22.1</td>\n",
       "    </tr>\n",
       "    <tr>\n",
       "      <th>1</th>\n",
       "      <td>2</td>\n",
       "      <td>44.5</td>\n",
       "      <td>39.3</td>\n",
       "      <td>45.1</td>\n",
       "      <td>10.4</td>\n",
       "    </tr>\n",
       "    <tr>\n",
       "      <th>2</th>\n",
       "      <td>3</td>\n",
       "      <td>17.2</td>\n",
       "      <td>45.9</td>\n",
       "      <td>69.3</td>\n",
       "      <td>9.3</td>\n",
       "    </tr>\n",
       "    <tr>\n",
       "      <th>3</th>\n",
       "      <td>4</td>\n",
       "      <td>151.5</td>\n",
       "      <td>41.3</td>\n",
       "      <td>58.5</td>\n",
       "      <td>18.5</td>\n",
       "    </tr>\n",
       "    <tr>\n",
       "      <th>4</th>\n",
       "      <td>5</td>\n",
       "      <td>180.8</td>\n",
       "      <td>10.8</td>\n",
       "      <td>58.4</td>\n",
       "      <td>12.9</td>\n",
       "    </tr>\n",
       "  </tbody>\n",
       "</table>\n",
       "</div>"
      ],
      "text/plain": [
       "   CO     TV  Radio  Newspaper  Sales\n",
       "0   1  230.1   37.8       69.2   22.1\n",
       "1   2   44.5   39.3       45.1   10.4\n",
       "2   3   17.2   45.9       69.3    9.3\n",
       "3   4  151.5   41.3       58.5   18.5\n",
       "4   5  180.8   10.8       58.4   12.9"
      ]
     },
     "execution_count": 6,
     "metadata": {},
     "output_type": "execute_result"
    }
   ],
   "source": [
    "df.toPandas().head(5)"
   ]
  },
  {
   "cell_type": "markdown",
   "id": "0977683b",
   "metadata": {},
   "source": [
    "# VectorAssembler"
   ]
  },
  {
   "cell_type": "code",
   "execution_count": 7,
   "id": "eecc57e7",
   "metadata": {},
   "outputs": [],
   "source": [
    "from pyspark.ml.feature import VectorAssembler\n",
    "\n",
    "vector_assembler = VectorAssembler() \\\n",
    ".setInputCols([\"TV\",\"Radio\",\"Newspaper\"]) \\\n",
    ".setOutputCol(\"features\")"
   ]
  },
  {
   "cell_type": "code",
   "execution_count": 8,
   "id": "8a4959a7",
   "metadata": {},
   "outputs": [],
   "source": [
    "df2 = vector_assembler.transform(df)"
   ]
  },
  {
   "cell_type": "code",
   "execution_count": 9,
   "id": "571187d3",
   "metadata": {},
   "outputs": [
    {
     "data": {
      "text/html": [
       "<div>\n",
       "<style scoped>\n",
       "    .dataframe tbody tr th:only-of-type {\n",
       "        vertical-align: middle;\n",
       "    }\n",
       "\n",
       "    .dataframe tbody tr th {\n",
       "        vertical-align: top;\n",
       "    }\n",
       "\n",
       "    .dataframe thead th {\n",
       "        text-align: right;\n",
       "    }\n",
       "</style>\n",
       "<table border=\"1\" class=\"dataframe\">\n",
       "  <thead>\n",
       "    <tr style=\"text-align: right;\">\n",
       "      <th></th>\n",
       "      <th>CO</th>\n",
       "      <th>TV</th>\n",
       "      <th>Radio</th>\n",
       "      <th>Newspaper</th>\n",
       "      <th>Sales</th>\n",
       "      <th>features</th>\n",
       "    </tr>\n",
       "  </thead>\n",
       "  <tbody>\n",
       "    <tr>\n",
       "      <th>0</th>\n",
       "      <td>1</td>\n",
       "      <td>230.1</td>\n",
       "      <td>37.8</td>\n",
       "      <td>69.2</td>\n",
       "      <td>22.1</td>\n",
       "      <td>[230.1, 37.8, 69.2]</td>\n",
       "    </tr>\n",
       "    <tr>\n",
       "      <th>1</th>\n",
       "      <td>2</td>\n",
       "      <td>44.5</td>\n",
       "      <td>39.3</td>\n",
       "      <td>45.1</td>\n",
       "      <td>10.4</td>\n",
       "      <td>[44.5, 39.3, 45.1]</td>\n",
       "    </tr>\n",
       "    <tr>\n",
       "      <th>2</th>\n",
       "      <td>3</td>\n",
       "      <td>17.2</td>\n",
       "      <td>45.9</td>\n",
       "      <td>69.3</td>\n",
       "      <td>9.3</td>\n",
       "      <td>[17.2, 45.9, 69.3]</td>\n",
       "    </tr>\n",
       "    <tr>\n",
       "      <th>3</th>\n",
       "      <td>4</td>\n",
       "      <td>151.5</td>\n",
       "      <td>41.3</td>\n",
       "      <td>58.5</td>\n",
       "      <td>18.5</td>\n",
       "      <td>[151.5, 41.3, 58.5]</td>\n",
       "    </tr>\n",
       "    <tr>\n",
       "      <th>4</th>\n",
       "      <td>5</td>\n",
       "      <td>180.8</td>\n",
       "      <td>10.8</td>\n",
       "      <td>58.4</td>\n",
       "      <td>12.9</td>\n",
       "      <td>[180.8, 10.8, 58.4]</td>\n",
       "    </tr>\n",
       "  </tbody>\n",
       "</table>\n",
       "</div>"
      ],
      "text/plain": [
       "   CO     TV  Radio  Newspaper  Sales             features\n",
       "0   1  230.1   37.8       69.2   22.1  [230.1, 37.8, 69.2]\n",
       "1   2   44.5   39.3       45.1   10.4   [44.5, 39.3, 45.1]\n",
       "2   3   17.2   45.9       69.3    9.3   [17.2, 45.9, 69.3]\n",
       "3   4  151.5   41.3       58.5   18.5  [151.5, 41.3, 58.5]\n",
       "4   5  180.8   10.8       58.4   12.9  [180.8, 10.8, 58.4]"
      ]
     },
     "execution_count": 9,
     "metadata": {},
     "output_type": "execute_result"
    }
   ],
   "source": [
    "df2.toPandas().head()"
   ]
  },
  {
   "cell_type": "code",
   "execution_count": 10,
   "id": "f26bc145",
   "metadata": {},
   "outputs": [],
   "source": [
    "import pandas as pd\n",
    "import numpy as np"
   ]
  },
  {
   "cell_type": "code",
   "execution_count": 11,
   "id": "8ace70ae",
   "metadata": {},
   "outputs": [],
   "source": [
    "params = np.array((0.3,0,9))"
   ]
  },
  {
   "cell_type": "markdown",
   "id": "122b65ea",
   "metadata": {},
   "source": [
    "# Regresion Model"
   ]
  },
  {
   "cell_type": "code",
   "execution_count": 12,
   "id": "64963c2e",
   "metadata": {},
   "outputs": [],
   "source": [
    "from pyspark.ml.regression import LinearRegression\n",
    "#linear_reg_obj = LinearRegression() \\\n",
    "#.setLabelCol(\"Sales\") \\\n",
    "#.setFeaturesCol(\"features\") \\\n",
    "#.setParams= params"
   ]
  },
  {
   "cell_type": "code",
   "execution_count": 13,
   "id": "2b799f50",
   "metadata": {},
   "outputs": [],
   "source": [
    "linear_reg_obj = LinearRegression(featuresCol=\"features\",labelCol=\"Sales\",regParam=0.8)"
   ]
  },
  {
   "cell_type": "markdown",
   "id": "f1a05dc5",
   "metadata": {},
   "source": [
    "# Train, Test Split"
   ]
  },
  {
   "cell_type": "code",
   "execution_count": 35,
   "id": "4695d0b0",
   "metadata": {},
   "outputs": [],
   "source": [
    "train_df, test_df = df2.randomSplit([0.8, 0.2], seed = 42)"
   ]
  },
  {
   "cell_type": "markdown",
   "id": "ac96fa00",
   "metadata": {},
   "source": [
    "# Training Model"
   ]
  },
  {
   "cell_type": "code",
   "execution_count": 36,
   "id": "e49f74bb",
   "metadata": {},
   "outputs": [],
   "source": [
    "model = linear_reg_obj.fit(train_df)"
   ]
  },
  {
   "cell_type": "markdown",
   "id": "d4655134",
   "metadata": {},
   "source": [
    "# Testing Model"
   ]
  },
  {
   "cell_type": "code",
   "execution_count": 37,
   "id": "f1316cbc",
   "metadata": {},
   "outputs": [],
   "source": [
    "result_df = model.transform(test_df)"
   ]
  },
  {
   "cell_type": "code",
   "execution_count": 38,
   "id": "8731492e",
   "metadata": {
    "scrolled": true
   },
   "outputs": [
    {
     "data": {
      "text/html": [
       "<div>\n",
       "<style scoped>\n",
       "    .dataframe tbody tr th:only-of-type {\n",
       "        vertical-align: middle;\n",
       "    }\n",
       "\n",
       "    .dataframe tbody tr th {\n",
       "        vertical-align: top;\n",
       "    }\n",
       "\n",
       "    .dataframe thead th {\n",
       "        text-align: right;\n",
       "    }\n",
       "</style>\n",
       "<table border=\"1\" class=\"dataframe\">\n",
       "  <thead>\n",
       "    <tr style=\"text-align: right;\">\n",
       "      <th></th>\n",
       "      <th>CO</th>\n",
       "      <th>TV</th>\n",
       "      <th>Radio</th>\n",
       "      <th>Newspaper</th>\n",
       "      <th>Sales</th>\n",
       "      <th>features</th>\n",
       "      <th>prediction</th>\n",
       "    </tr>\n",
       "  </thead>\n",
       "  <tbody>\n",
       "    <tr>\n",
       "      <th>0</th>\n",
       "      <td>3</td>\n",
       "      <td>17.2</td>\n",
       "      <td>45.9</td>\n",
       "      <td>69.3</td>\n",
       "      <td>9.3</td>\n",
       "      <td>[17.2, 45.9, 69.3]</td>\n",
       "      <td>12.557507</td>\n",
       "    </tr>\n",
       "    <tr>\n",
       "      <th>1</th>\n",
       "      <td>7</td>\n",
       "      <td>57.5</td>\n",
       "      <td>32.8</td>\n",
       "      <td>23.5</td>\n",
       "      <td>11.8</td>\n",
       "      <td>[57.5, 32.8, 23.5]</td>\n",
       "      <td>11.818951</td>\n",
       "    </tr>\n",
       "    <tr>\n",
       "      <th>2</th>\n",
       "      <td>9</td>\n",
       "      <td>8.6</td>\n",
       "      <td>2.1</td>\n",
       "      <td>1.0</td>\n",
       "      <td>4.8</td>\n",
       "      <td>[8.6, 2.1, 1.0]</td>\n",
       "      <td>4.780422</td>\n",
       "    </tr>\n",
       "    <tr>\n",
       "      <th>3</th>\n",
       "      <td>14</td>\n",
       "      <td>97.5</td>\n",
       "      <td>7.6</td>\n",
       "      <td>7.2</td>\n",
       "      <td>9.7</td>\n",
       "      <td>[97.5, 7.6, 7.2]</td>\n",
       "      <td>9.319446</td>\n",
       "    </tr>\n",
       "    <tr>\n",
       "      <th>4</th>\n",
       "      <td>20</td>\n",
       "      <td>147.3</td>\n",
       "      <td>23.9</td>\n",
       "      <td>19.1</td>\n",
       "      <td>14.6</td>\n",
       "      <td>[147.3, 23.9, 19.1]</td>\n",
       "      <td>14.027213</td>\n",
       "    </tr>\n",
       "    <tr>\n",
       "      <th>5</th>\n",
       "      <td>24</td>\n",
       "      <td>228.3</td>\n",
       "      <td>16.9</td>\n",
       "      <td>26.2</td>\n",
       "      <td>15.5</td>\n",
       "      <td>[228.3, 16.9, 26.2]</td>\n",
       "      <td>16.252646</td>\n",
       "    </tr>\n",
       "    <tr>\n",
       "      <th>6</th>\n",
       "      <td>30</td>\n",
       "      <td>70.6</td>\n",
       "      <td>16.0</td>\n",
       "      <td>40.8</td>\n",
       "      <td>10.5</td>\n",
       "      <td>[70.6, 16.0, 40.8]</td>\n",
       "      <td>9.776402</td>\n",
       "    </tr>\n",
       "    <tr>\n",
       "      <th>7</th>\n",
       "      <td>36</td>\n",
       "      <td>290.7</td>\n",
       "      <td>4.1</td>\n",
       "      <td>8.5</td>\n",
       "      <td>12.8</td>\n",
       "      <td>[290.7, 4.1, 8.5]</td>\n",
       "      <td>16.638274</td>\n",
       "    </tr>\n",
       "    <tr>\n",
       "      <th>8</th>\n",
       "      <td>46</td>\n",
       "      <td>175.1</td>\n",
       "      <td>22.5</td>\n",
       "      <td>31.5</td>\n",
       "      <td>14.9</td>\n",
       "      <td>[175.1, 22.5, 31.5]</td>\n",
       "      <td>15.013597</td>\n",
       "    </tr>\n",
       "    <tr>\n",
       "      <th>9</th>\n",
       "      <td>47</td>\n",
       "      <td>89.7</td>\n",
       "      <td>9.9</td>\n",
       "      <td>35.7</td>\n",
       "      <td>10.6</td>\n",
       "      <td>[89.7, 9.9, 35.7]</td>\n",
       "      <td>9.547750</td>\n",
       "    </tr>\n",
       "  </tbody>\n",
       "</table>\n",
       "</div>"
      ],
      "text/plain": [
       "   CO     TV  Radio  Newspaper  Sales             features  prediction\n",
       "0   3   17.2   45.9       69.3    9.3   [17.2, 45.9, 69.3]   12.557507\n",
       "1   7   57.5   32.8       23.5   11.8   [57.5, 32.8, 23.5]   11.818951\n",
       "2   9    8.6    2.1        1.0    4.8      [8.6, 2.1, 1.0]    4.780422\n",
       "3  14   97.5    7.6        7.2    9.7     [97.5, 7.6, 7.2]    9.319446\n",
       "4  20  147.3   23.9       19.1   14.6  [147.3, 23.9, 19.1]   14.027213\n",
       "5  24  228.3   16.9       26.2   15.5  [228.3, 16.9, 26.2]   16.252646\n",
       "6  30   70.6   16.0       40.8   10.5   [70.6, 16.0, 40.8]    9.776402\n",
       "7  36  290.7    4.1        8.5   12.8    [290.7, 4.1, 8.5]   16.638274\n",
       "8  46  175.1   22.5       31.5   14.9  [175.1, 22.5, 31.5]   15.013597\n",
       "9  47   89.7    9.9       35.7   10.6    [89.7, 9.9, 35.7]    9.547750"
      ]
     },
     "execution_count": 38,
     "metadata": {},
     "output_type": "execute_result"
    }
   ],
   "source": [
    "result_df.toPandas().head(10)"
   ]
  },
  {
   "cell_type": "code",
   "execution_count": 39,
   "id": "69bca851",
   "metadata": {},
   "outputs": [
    {
     "data": {
      "text/html": [
       "<div>\n",
       "<style scoped>\n",
       "    .dataframe tbody tr th:only-of-type {\n",
       "        vertical-align: middle;\n",
       "    }\n",
       "\n",
       "    .dataframe tbody tr th {\n",
       "        vertical-align: top;\n",
       "    }\n",
       "\n",
       "    .dataframe thead th {\n",
       "        text-align: right;\n",
       "    }\n",
       "</style>\n",
       "<table border=\"1\" class=\"dataframe\">\n",
       "  <thead>\n",
       "    <tr style=\"text-align: right;\">\n",
       "      <th></th>\n",
       "      <th>CO</th>\n",
       "      <th>TV</th>\n",
       "      <th>Radio</th>\n",
       "      <th>Newspaper</th>\n",
       "      <th>Sales</th>\n",
       "      <th>features</th>\n",
       "      <th>prediction</th>\n",
       "    </tr>\n",
       "  </thead>\n",
       "  <tbody>\n",
       "    <tr>\n",
       "      <th>0</th>\n",
       "      <td>3</td>\n",
       "      <td>17.2</td>\n",
       "      <td>45.9</td>\n",
       "      <td>69.3</td>\n",
       "      <td>9.3</td>\n",
       "      <td>[17.2, 45.9, 69.3]</td>\n",
       "      <td>12.557507</td>\n",
       "    </tr>\n",
       "    <tr>\n",
       "      <th>1</th>\n",
       "      <td>7</td>\n",
       "      <td>57.5</td>\n",
       "      <td>32.8</td>\n",
       "      <td>23.5</td>\n",
       "      <td>11.8</td>\n",
       "      <td>[57.5, 32.8, 23.5]</td>\n",
       "      <td>11.818951</td>\n",
       "    </tr>\n",
       "    <tr>\n",
       "      <th>2</th>\n",
       "      <td>9</td>\n",
       "      <td>8.6</td>\n",
       "      <td>2.1</td>\n",
       "      <td>1.0</td>\n",
       "      <td>4.8</td>\n",
       "      <td>[8.6, 2.1, 1.0]</td>\n",
       "      <td>4.780422</td>\n",
       "    </tr>\n",
       "    <tr>\n",
       "      <th>3</th>\n",
       "      <td>14</td>\n",
       "      <td>97.5</td>\n",
       "      <td>7.6</td>\n",
       "      <td>7.2</td>\n",
       "      <td>9.7</td>\n",
       "      <td>[97.5, 7.6, 7.2]</td>\n",
       "      <td>9.319446</td>\n",
       "    </tr>\n",
       "    <tr>\n",
       "      <th>4</th>\n",
       "      <td>20</td>\n",
       "      <td>147.3</td>\n",
       "      <td>23.9</td>\n",
       "      <td>19.1</td>\n",
       "      <td>14.6</td>\n",
       "      <td>[147.3, 23.9, 19.1]</td>\n",
       "      <td>14.027213</td>\n",
       "    </tr>\n",
       "    <tr>\n",
       "      <th>5</th>\n",
       "      <td>24</td>\n",
       "      <td>228.3</td>\n",
       "      <td>16.9</td>\n",
       "      <td>26.2</td>\n",
       "      <td>15.5</td>\n",
       "      <td>[228.3, 16.9, 26.2]</td>\n",
       "      <td>16.252646</td>\n",
       "    </tr>\n",
       "    <tr>\n",
       "      <th>6</th>\n",
       "      <td>30</td>\n",
       "      <td>70.6</td>\n",
       "      <td>16.0</td>\n",
       "      <td>40.8</td>\n",
       "      <td>10.5</td>\n",
       "      <td>[70.6, 16.0, 40.8]</td>\n",
       "      <td>9.776402</td>\n",
       "    </tr>\n",
       "    <tr>\n",
       "      <th>7</th>\n",
       "      <td>36</td>\n",
       "      <td>290.7</td>\n",
       "      <td>4.1</td>\n",
       "      <td>8.5</td>\n",
       "      <td>12.8</td>\n",
       "      <td>[290.7, 4.1, 8.5]</td>\n",
       "      <td>16.638274</td>\n",
       "    </tr>\n",
       "    <tr>\n",
       "      <th>8</th>\n",
       "      <td>46</td>\n",
       "      <td>175.1</td>\n",
       "      <td>22.5</td>\n",
       "      <td>31.5</td>\n",
       "      <td>14.9</td>\n",
       "      <td>[175.1, 22.5, 31.5]</td>\n",
       "      <td>15.013597</td>\n",
       "    </tr>\n",
       "    <tr>\n",
       "      <th>9</th>\n",
       "      <td>47</td>\n",
       "      <td>89.7</td>\n",
       "      <td>9.9</td>\n",
       "      <td>35.7</td>\n",
       "      <td>10.6</td>\n",
       "      <td>[89.7, 9.9, 35.7]</td>\n",
       "      <td>9.547750</td>\n",
       "    </tr>\n",
       "    <tr>\n",
       "      <th>10</th>\n",
       "      <td>48</td>\n",
       "      <td>239.9</td>\n",
       "      <td>41.5</td>\n",
       "      <td>18.5</td>\n",
       "      <td>23.2</td>\n",
       "      <td>[239.9, 41.5, 18.5]</td>\n",
       "      <td>20.607867</td>\n",
       "    </tr>\n",
       "    <tr>\n",
       "      <th>11</th>\n",
       "      <td>50</td>\n",
       "      <td>66.9</td>\n",
       "      <td>11.7</td>\n",
       "      <td>36.8</td>\n",
       "      <td>9.7</td>\n",
       "      <td>[66.9, 11.7, 36.8]</td>\n",
       "      <td>8.913516</td>\n",
       "    </tr>\n",
       "    <tr>\n",
       "      <th>12</th>\n",
       "      <td>52</td>\n",
       "      <td>100.4</td>\n",
       "      <td>9.6</td>\n",
       "      <td>3.6</td>\n",
       "      <td>10.7</td>\n",
       "      <td>[100.4, 9.6, 3.6]</td>\n",
       "      <td>9.734615</td>\n",
       "    </tr>\n",
       "    <tr>\n",
       "      <th>13</th>\n",
       "      <td>56</td>\n",
       "      <td>198.9</td>\n",
       "      <td>49.4</td>\n",
       "      <td>60.0</td>\n",
       "      <td>23.7</td>\n",
       "      <td>[198.9, 49.4, 60.0]</td>\n",
       "      <td>20.460047</td>\n",
       "    </tr>\n",
       "    <tr>\n",
       "      <th>14</th>\n",
       "      <td>63</td>\n",
       "      <td>239.3</td>\n",
       "      <td>15.5</td>\n",
       "      <td>27.3</td>\n",
       "      <td>15.7</td>\n",
       "      <td>[239.3, 15.5, 27.3]</td>\n",
       "      <td>16.483908</td>\n",
       "    </tr>\n",
       "    <tr>\n",
       "      <th>15</th>\n",
       "      <td>70</td>\n",
       "      <td>216.8</td>\n",
       "      <td>43.9</td>\n",
       "      <td>27.2</td>\n",
       "      <td>22.3</td>\n",
       "      <td>[216.8, 43.9, 27.2]</td>\n",
       "      <td>20.104891</td>\n",
       "    </tr>\n",
       "    <tr>\n",
       "      <th>16</th>\n",
       "      <td>78</td>\n",
       "      <td>120.5</td>\n",
       "      <td>28.5</td>\n",
       "      <td>14.2</td>\n",
       "      <td>14.2</td>\n",
       "      <td>[120.5, 28.5, 14.2]</td>\n",
       "      <td>13.639880</td>\n",
       "    </tr>\n",
       "    <tr>\n",
       "      <th>17</th>\n",
       "      <td>101</td>\n",
       "      <td>222.4</td>\n",
       "      <td>4.3</td>\n",
       "      <td>49.8</td>\n",
       "      <td>11.7</td>\n",
       "      <td>[222.4, 4.3, 49.8]</td>\n",
       "      <td>14.146729</td>\n",
       "    </tr>\n",
       "    <tr>\n",
       "      <th>18</th>\n",
       "      <td>113</td>\n",
       "      <td>175.7</td>\n",
       "      <td>15.4</td>\n",
       "      <td>2.4</td>\n",
       "      <td>14.1</td>\n",
       "      <td>[175.7, 15.4, 2.4]</td>\n",
       "      <td>13.721233</td>\n",
       "    </tr>\n",
       "    <tr>\n",
       "      <th>19</th>\n",
       "      <td>117</td>\n",
       "      <td>139.2</td>\n",
       "      <td>14.3</td>\n",
       "      <td>25.6</td>\n",
       "      <td>12.2</td>\n",
       "      <td>[139.2, 14.3, 25.6]</td>\n",
       "      <td>12.203954</td>\n",
       "    </tr>\n",
       "  </tbody>\n",
       "</table>\n",
       "</div>"
      ],
      "text/plain": [
       "     CO     TV  Radio  Newspaper  Sales             features  prediction\n",
       "0     3   17.2   45.9       69.3    9.3   [17.2, 45.9, 69.3]   12.557507\n",
       "1     7   57.5   32.8       23.5   11.8   [57.5, 32.8, 23.5]   11.818951\n",
       "2     9    8.6    2.1        1.0    4.8      [8.6, 2.1, 1.0]    4.780422\n",
       "3    14   97.5    7.6        7.2    9.7     [97.5, 7.6, 7.2]    9.319446\n",
       "4    20  147.3   23.9       19.1   14.6  [147.3, 23.9, 19.1]   14.027213\n",
       "5    24  228.3   16.9       26.2   15.5  [228.3, 16.9, 26.2]   16.252646\n",
       "6    30   70.6   16.0       40.8   10.5   [70.6, 16.0, 40.8]    9.776402\n",
       "7    36  290.7    4.1        8.5   12.8    [290.7, 4.1, 8.5]   16.638274\n",
       "8    46  175.1   22.5       31.5   14.9  [175.1, 22.5, 31.5]   15.013597\n",
       "9    47   89.7    9.9       35.7   10.6    [89.7, 9.9, 35.7]    9.547750\n",
       "10   48  239.9   41.5       18.5   23.2  [239.9, 41.5, 18.5]   20.607867\n",
       "11   50   66.9   11.7       36.8    9.7   [66.9, 11.7, 36.8]    8.913516\n",
       "12   52  100.4    9.6        3.6   10.7    [100.4, 9.6, 3.6]    9.734615\n",
       "13   56  198.9   49.4       60.0   23.7  [198.9, 49.4, 60.0]   20.460047\n",
       "14   63  239.3   15.5       27.3   15.7  [239.3, 15.5, 27.3]   16.483908\n",
       "15   70  216.8   43.9       27.2   22.3  [216.8, 43.9, 27.2]   20.104891\n",
       "16   78  120.5   28.5       14.2   14.2  [120.5, 28.5, 14.2]   13.639880\n",
       "17  101  222.4    4.3       49.8   11.7   [222.4, 4.3, 49.8]   14.146729\n",
       "18  113  175.7   15.4        2.4   14.1   [175.7, 15.4, 2.4]   13.721233\n",
       "19  117  139.2   14.3       25.6   12.2  [139.2, 14.3, 25.6]   12.203954"
      ]
     },
     "execution_count": 39,
     "metadata": {},
     "output_type": "execute_result"
    }
   ],
   "source": [
    "result_df.toPandas().head(20)"
   ]
  },
  {
   "cell_type": "code",
   "execution_count": 40,
   "id": "e5faaa3c",
   "metadata": {},
   "outputs": [
    {
     "data": {
      "text/plain": [
       "DenseVector([0.0407, 0.1598, 0.0063])"
      ]
     },
     "execution_count": 40,
     "metadata": {},
     "output_type": "execute_result"
    }
   ],
   "source": [
    "model.coefficients"
   ]
  },
  {
   "cell_type": "code",
   "execution_count": 41,
   "id": "3009f46a",
   "metadata": {},
   "outputs": [
    {
     "data": {
      "text/plain": [
       "4.08827265871777"
      ]
     },
     "execution_count": 41,
     "metadata": {},
     "output_type": "execute_result"
    }
   ],
   "source": [
    "model.intercept"
   ]
  },
  {
   "cell_type": "code",
   "execution_count": 42,
   "id": "e6c0d694",
   "metadata": {},
   "outputs": [
    {
     "data": {
      "text/plain": [
       "0.8839157065987285"
      ]
     },
     "execution_count": 42,
     "metadata": {},
     "output_type": "execute_result"
    }
   ],
   "source": [
    "model.summary.r2"
   ]
  },
  {
   "cell_type": "code",
   "execution_count": 43,
   "id": "2e8b18a7",
   "metadata": {},
   "outputs": [
    {
     "data": {
      "text/plain": [
       "[0.0, 0.0, 0.3162260879131975, 0.0]"
      ]
     },
     "execution_count": 43,
     "metadata": {},
     "output_type": "execute_result"
    }
   ],
   "source": [
    "model.summary.pValues"
   ]
  },
  {
   "cell_type": "code",
   "execution_count": 44,
   "id": "9eaa9ae3",
   "metadata": {},
   "outputs": [
    {
     "data": {
      "text/plain": [
       "[27.065681758114593, 17.514692802463635, 1.0052965085046834, 11.64329537706581]"
      ]
     },
     "execution_count": 44,
     "metadata": {},
     "output_type": "execute_result"
    }
   ],
   "source": [
    "model.summary.tValues"
   ]
  },
  {
   "cell_type": "code",
   "execution_count": 45,
   "id": "337c796b",
   "metadata": {},
   "outputs": [
    {
     "data": {
      "text/plain": [
       "1.7969624944528968"
      ]
     },
     "execution_count": 45,
     "metadata": {},
     "output_type": "execute_result"
    }
   ],
   "source": [
    "model.summary.rootMeanSquaredError"
   ]
  },
  {
   "cell_type": "markdown",
   "id": "494c297d",
   "metadata": {},
   "source": [
    "# y = 4.332336427374665 + 0.0391 * Advertisement\n",
    "4.332336427374665 = model.intercept\n",
    "0.0391 = model.coefficients\n",
    "Lineer Regresyonu Şuan Formulize Ettik"
   ]
  },
  {
   "cell_type": "markdown",
   "id": "7da66b85",
   "metadata": {},
   "source": [
    "# 100.000 TL'Lik Reklam Bütçesi Ayarlarsak Satışlarımıza Ne Kadar Etki Eder"
   ]
  },
  {
   "cell_type": "code",
   "execution_count": 25,
   "id": "21cfceff",
   "metadata": {},
   "outputs": [
    {
     "name": "stderr",
     "output_type": "stream",
     "text": [
      "                                                                                \r"
     ]
    }
   ],
   "source": [
    "df_predict_rdd = spark.sparkContext.parallelize([100.0])\n",
    "df_predict = df_predict_rdd.map(lambda x: (x,)).toDF([\"Advertisement2\"])"
   ]
  },
  {
   "cell_type": "code",
   "execution_count": 26,
   "id": "a1675f3a",
   "metadata": {},
   "outputs": [
    {
     "name": "stdout",
     "output_type": "stream",
     "text": [
      "+--------------+\n",
      "|Advertisement2|\n",
      "+--------------+\n",
      "|         100.0|\n",
      "+--------------+\n",
      "\n"
     ]
    }
   ],
   "source": [
    "df_predict.show()"
   ]
  },
  {
   "cell_type": "code",
   "execution_count": 27,
   "id": "3ff00dcf",
   "metadata": {},
   "outputs": [],
   "source": [
    "vector_assembler2 = VectorAssembler() \\\n",
    ".setInputCols([\"Advertisement2\"]) \\\n",
    ".setOutputCol(\"features\")"
   ]
  },
  {
   "cell_type": "code",
   "execution_count": 28,
   "id": "4b95da21",
   "metadata": {},
   "outputs": [],
   "source": [
    "df_pred_vec = vector_assembler2.transform(df_predict)"
   ]
  },
  {
   "cell_type": "code",
   "execution_count": 29,
   "id": "525f6925",
   "metadata": {},
   "outputs": [
    {
     "name": "stdout",
     "output_type": "stream",
     "text": [
      "+--------------+--------+\n",
      "|Advertisement2|features|\n",
      "+--------------+--------+\n",
      "|         100.0| [100.0]|\n",
      "+--------------+--------+\n",
      "\n"
     ]
    }
   ],
   "source": [
    "df_pred_vec.show()"
   ]
  },
  {
   "cell_type": "code",
   "execution_count": 30,
   "id": "d5fd51c0",
   "metadata": {},
   "outputs": [],
   "source": [
    "df_pred_vec2 = df_pred_vec.drop(\"Advertisement2\")"
   ]
  },
  {
   "cell_type": "code",
   "execution_count": 31,
   "id": "2b07c458",
   "metadata": {},
   "outputs": [
    {
     "name": "stdout",
     "output_type": "stream",
     "text": [
      "+--------+\n",
      "|features|\n",
      "+--------+\n",
      "| [100.0]|\n",
      "+--------+\n",
      "\n"
     ]
    }
   ],
   "source": [
    "df_pred_vec2.show()"
   ]
  },
  {
   "cell_type": "code",
   "execution_count": 32,
   "id": "6bad5ce8",
   "metadata": {},
   "outputs": [],
   "source": [
    "#inear_reg_obj2 = LinearRegression(featuresCol=\"features\",labelCol=\"new_predict\",regParam=0.8)\n",
    "#train_df, test_df = df_pred_vec2.randomSplit([0.8, 0.2], seed = 142)"
   ]
  },
  {
   "cell_type": "code",
   "execution_count": 33,
   "id": "80805b99",
   "metadata": {},
   "outputs": [],
   "source": [
    "#model2 = linear_reg_obj2.fit(train_df)"
   ]
  },
  {
   "cell_type": "code",
   "execution_count": 34,
   "id": "227557be",
   "metadata": {},
   "outputs": [],
   "source": [
    "#model2.transform(df_pred_vec2).toPandas().head()"
   ]
  }
 ],
 "metadata": {
  "kernelspec": {
   "display_name": "Python 3 (ipykernel)",
   "language": "python",
   "name": "python3"
  },
  "language_info": {
   "codemirror_mode": {
    "name": "ipython",
    "version": 3
   },
   "file_extension": ".py",
   "mimetype": "text/x-python",
   "name": "python",
   "nbconvert_exporter": "python",
   "pygments_lexer": "ipython3",
   "version": "3.10.6"
  }
 },
 "nbformat": 4,
 "nbformat_minor": 5
}
