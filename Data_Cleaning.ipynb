{
 "cells": [
  {
   "cell_type": "code",
   "execution_count": 41,
   "id": "1e2bdcbd",
   "metadata": {},
   "outputs": [],
   "source": [
    "import sys\n",
    "import os"
   ]
  },
  {
   "cell_type": "code",
   "execution_count": 42,
   "id": "9929eca6",
   "metadata": {
    "scrolled": true
   },
   "outputs": [
    {
     "name": "stdout",
     "output_type": "stream",
     "text": [
      ".sudo_as_admin_successful\n",
      "spark-warehouse\n",
      "spark\n",
      ".ipython\n",
      ".jupyter\n",
      ".gnome\n",
      "Music\n",
      "Documents\n",
      "Data_Cleaning2.ipynb\n",
      ".scala_history\n",
      ".bash_logout\n",
      ".local\n",
      "Desktop\n",
      "intellij\n",
      ".m2\n",
      "spark-3.3.0-bin-hadoop3\n",
      ".java\n",
      "Public\n",
      ".cache\n",
      ".pki\n",
      ".ivy2\n",
      ".mozilla\n",
      "idea-IC-222.4167.29\n",
      ".idea-build\n",
      ".IdeaIC2018.2\n",
      ".sbt\n",
      ".bash_history\n",
      "snap\n",
      ".ipynb_checkpoints\n",
      "kafka\n",
      "Pictures\n",
      ".bashrc\n",
      "deneme\n",
      "Untitled.ipynb\n",
      "Templates\n",
      "Pysparklar\n",
      "Eski_scalalar\n",
      ".python_history\n",
      "os_hatası_çözümü.ipynb\n",
      ".thunderbird\n",
      "apache-maven-3.8.6\n",
      ".dotty_history\n",
      ".IdeaIC2018.1\n",
      "Downloads\n",
      "IdeaProjects\n",
      "scala\n",
      ".config\n",
      "Videos\n",
      ".profile\n",
      ".android\n",
      "scala2\n"
     ]
    }
   ],
   "source": [
    "path= os.listdir(\"/home/batuhan\")\n",
    "for i in path:\n",
    "    print(i)\n",
    "    if \"Untitled\" in i:\n",
    "        os.rename(i, i.replace(\"Untitled\",\"Data_Cleaning\"))"
   ]
  },
  {
   "cell_type": "code",
   "execution_count": 2,
   "id": "c5bc211a",
   "metadata": {},
   "outputs": [
    {
     "name": "stdout",
     "output_type": "stream",
     "text": [
      "22/10/12 06:00:48 WARN Utils: Your hostname, batuhan-VirtualBox resolves to a loopback address: 127.0.1.1; using 10.0.2.15 instead (on interface enp0s3)\n",
      "22/10/12 06:00:48 WARN Utils: Set SPARK_LOCAL_IP if you need to bind to another address\n"
     ]
    },
    {
     "name": "stderr",
     "output_type": "stream",
     "text": [
      "Setting default log level to \"WARN\".\n",
      "To adjust logging level use sc.setLogLevel(newLevel). For SparkR, use setLogLevel(newLevel).\n"
     ]
    },
    {
     "name": "stdout",
     "output_type": "stream",
     "text": [
      "22/10/12 06:00:50 WARN NativeCodeLoader: Unable to load native-hadoop library for your platform... using builtin-java classes where applicable\n"
     ]
    }
   ],
   "source": [
    "import findspark\n",
    "findspark.init()\n",
    "from pyspark.sql import SparkSession\n",
    "spark = SparkSession.builder \\\n",
    ".master(\"local[4]\") \\\n",
    ".appName(\"Data Cleaning\") \\\n",
    ".config(\"spark.executor.memory\",\"4g\") \\\n",
    ".config(\"spark.driver.memory\",\"4g\") \\\n",
    ".getOrCreate()"
   ]
  },
  {
   "cell_type": "code",
   "execution_count": 3,
   "id": "93fd5d83",
   "metadata": {},
   "outputs": [
    {
     "name": "stderr",
     "output_type": "stream",
     "text": [
      "                                                                                \r"
     ]
    }
   ],
   "source": [
    "adult_train_df = spark.read \\\n",
    ".option(\"header\",\"True\") \\\n",
    ".option(\"inferSchema\",\"True\") \\\n",
    ".option(\"sep\",\",\") \\\n",
    ".csv(\"/home/batuhan/Desktop/datalar/adult.data\")"
   ]
  },
  {
   "cell_type": "code",
   "execution_count": 4,
   "id": "6ba8ae3b",
   "metadata": {
    "scrolled": true
   },
   "outputs": [
    {
     "name": "stdout",
     "output_type": "stream",
     "text": [
      "+---+-----------------+--------+-------------+-------------+--------------------+------------------+--------------+-------------------+-------+------------+------------+--------------+--------------+------+\n",
      "|age|        workclass|  fnlwgt|    education|education_num|      marital_status|        occupation|  relationship|               race|    sex|capital_gain|capital_loss|hours_per_week|native_country|output|\n",
      "+---+-----------------+--------+-------------+-------------+--------------------+------------------+--------------+-------------------+-------+------------+------------+--------------+--------------+------+\n",
      "| 39|        State-gov| 77516.0|    Bachelors|         13.0|       Never-married|      Adm-clerical| Not-in-family|              White|   Male|      2174.0|         0.0|          40.0| United-States| <=50K|\n",
      "| 50| Self-emp-not-inc| 83311.0|    Bachelors|         13.0|  Married-civ-spouse|   Exec-managerial|       Husband|              White|   Male|         0.0|         0.0|          13.0| United-States| <=50K|\n",
      "| 38|          Private|215646.0|      HS-grad|          9.0|            Divorced| Handlers-cleaners| Not-in-family|              White|   Male|         0.0|         0.0|          40.0| United-States| <=50K|\n",
      "| 53|          Private|234721.0|         11th|          7.0|  Married-civ-spouse| Handlers-cleaners|       Husband|              Black|   Male|         0.0|         0.0|          40.0| United-States| <=50K|\n",
      "| 28|          Private|338409.0|    Bachelors|         13.0|  Married-civ-spouse|    Prof-specialty|          Wife|              Black| Female|         0.0|         0.0|          40.0|          Cuba| <=50K|\n",
      "| 37|          Private|284582.0|      Masters|         14.0|  Married-civ-spouse|   Exec-managerial|          Wife|              White| Female|         0.0|         0.0|          40.0| United-States| <=50K|\n",
      "| 49|          Private|160187.0|          9th|          5.0| Married-spouse-a...|     Other-service| Not-in-family|              Black| Female|         0.0|         0.0|          16.0|       Jamaica| <=50K|\n",
      "| 52| Self-emp-not-inc|209642.0|      HS-grad|          9.0|  Married-civ-spouse|   Exec-managerial|       Husband|              White|   Male|         0.0|         0.0|          45.0| United-States|  >50K|\n",
      "| 31|          Private| 45781.0|      Masters|         14.0|       Never-married|    Prof-specialty| Not-in-family|              White| Female|     14084.0|         0.0|          50.0| United-States|  >50K|\n",
      "| 42|          Private|159449.0|    Bachelors|         13.0|  Married-civ-spouse|   Exec-managerial|       Husband|              White|   Male|      5178.0|         0.0|          40.0| United-States|  >50K|\n",
      "| 37|          Private|280464.0| Some-college|         10.0|  Married-civ-spouse|   Exec-managerial|       Husband|              Black|   Male|         0.0|         0.0|          80.0| United-States|  >50K|\n",
      "| 30|        State-gov|141297.0|    Bachelors|         13.0|  Married-civ-spouse|    Prof-specialty|       Husband| Asian-Pac-Islander|   Male|         0.0|         0.0|          40.0|         India|  >50K|\n",
      "| 23|          Private|122272.0|    Bachelors|         13.0|       Never-married|      Adm-clerical|     Own-child|              White| Female|         0.0|         0.0|          30.0| United-States| <=50K|\n",
      "| 32|          Private|205019.0|   Assoc-acdm|         12.0|       Never-married|             Sales| Not-in-family|              Black|   Male|         0.0|         0.0|          50.0| United-States| <=50K|\n",
      "| 40|          Private|121772.0|    Assoc-voc|         11.0|  Married-civ-spouse|      Craft-repair|       Husband| Asian-Pac-Islander|   Male|         0.0|         0.0|          40.0|             ?|  >50K|\n",
      "| 34|          Private|245487.0|      7th-8th|          4.0|  Married-civ-spouse|  Transport-moving|       Husband| Amer-Indian-Eskimo|   Male|         0.0|         0.0|          45.0|        Mexico| <=50K|\n",
      "| 25| Self-emp-not-inc|176756.0|      HS-grad|          9.0|       Never-married|   Farming-fishing|     Own-child|              White|   Male|         0.0|         0.0|          35.0| United-States| <=50K|\n",
      "| 32|          Private|186824.0|      HS-grad|          9.0|       Never-married| Machine-op-inspct|     Unmarried|              White|   Male|         0.0|         0.0|          40.0| United-States| <=50K|\n",
      "| 38|          Private| 28887.0|         11th|          7.0|  Married-civ-spouse|             Sales|       Husband|              White|   Male|         0.0|         0.0|          50.0| United-States| <=50K|\n",
      "| 43| Self-emp-not-inc|292175.0|      Masters|         14.0|            Divorced|   Exec-managerial|     Unmarried|              White| Female|         0.0|         0.0|          45.0| United-States|  >50K|\n",
      "+---+-----------------+--------+-------------+-------------+--------------------+------------------+--------------+-------------------+-------+------------+------------+--------------+--------------+------+\n",
      "only showing top 20 rows\n",
      "\n"
     ]
    }
   ],
   "source": [
    "adult_train_df.show(20)"
   ]
  },
  {
   "cell_type": "code",
   "execution_count": 5,
   "id": "0d8af297",
   "metadata": {},
   "outputs": [],
   "source": [
    "adult_test_df = spark.read \\\n",
    ".option(\"header\",\"True\") \\\n",
    ".option(\"inferSchema\",\"True\") \\\n",
    ".option(\"sep\",\",\") \\\n",
    ".csv(\"/home/batuhan/Desktop/datalar/adult.test\")"
   ]
  },
  {
   "cell_type": "code",
   "execution_count": 6,
   "id": "e619645a",
   "metadata": {},
   "outputs": [
    {
     "name": "stdout",
     "output_type": "stream",
     "text": [
      "+---+----------+--------+-------------+-------------+-------------------+------------------+------------+------+-------+------------+------------+--------------+--------------+-------+\n",
      "|age| workclass|  fnlwgt|    education|education-num|     marital-status|        occupation|relationship|  race|    sex|capital-gain|capital-loss|hours-per-week|native-country| output|\n",
      "+---+----------+--------+-------------+-------------+-------------------+------------------+------------+------+-------+------------+------------+--------------+--------------+-------+\n",
      "| 25|   Private|226802.0|         11th|          7.0|      Never-married| Machine-op-inspct|   Own-child| Black|   Male|         0.0|         0.0|          40.0| United-States| <=50K.|\n",
      "| 38|   Private| 89814.0|      HS-grad|          9.0| Married-civ-spouse|   Farming-fishing|     Husband| White|   Male|         0.0|         0.0|          50.0| United-States| <=50K.|\n",
      "| 28| Local-gov|336951.0|   Assoc-acdm|         12.0| Married-civ-spouse|   Protective-serv|     Husband| White|   Male|         0.0|         0.0|          40.0| United-States|  >50K.|\n",
      "| 44|   Private|160323.0| Some-college|         10.0| Married-civ-spouse| Machine-op-inspct|     Husband| Black|   Male|      7688.0|         0.0|          40.0| United-States|  >50K.|\n",
      "| 18|         ?|103497.0| Some-college|         10.0|      Never-married|                 ?|   Own-child| White| Female|         0.0|         0.0|          30.0| United-States| <=50K.|\n",
      "+---+----------+--------+-------------+-------------+-------------------+------------------+------------+------+-------+------------+------------+--------------+--------------+-------+\n",
      "only showing top 5 rows\n",
      "\n"
     ]
    }
   ],
   "source": [
    "adult_test_df.show(5)"
   ]
  },
  {
   "cell_type": "markdown",
   "id": "cd140cf0",
   "metadata": {},
   "source": [
    "# VERİ BİRLEŞTİRME"
   ]
  },
  {
   "cell_type": "code",
   "execution_count": 7,
   "id": "1bee5a9a",
   "metadata": {},
   "outputs": [
    {
     "data": {
      "text/html": [
       "<div>\n",
       "<style scoped>\n",
       "    .dataframe tbody tr th:only-of-type {\n",
       "        vertical-align: middle;\n",
       "    }\n",
       "\n",
       "    .dataframe tbody tr th {\n",
       "        vertical-align: top;\n",
       "    }\n",
       "\n",
       "    .dataframe thead th {\n",
       "        text-align: right;\n",
       "    }\n",
       "</style>\n",
       "<table border=\"1\" class=\"dataframe\">\n",
       "  <thead>\n",
       "    <tr style=\"text-align: right;\">\n",
       "      <th></th>\n",
       "      <th>age</th>\n",
       "      <th>workclass</th>\n",
       "      <th>fnlwgt</th>\n",
       "      <th>education</th>\n",
       "      <th>education_num</th>\n",
       "      <th>marital_status</th>\n",
       "      <th>occupation</th>\n",
       "      <th>relationship</th>\n",
       "      <th>race</th>\n",
       "      <th>sex</th>\n",
       "      <th>capital_gain</th>\n",
       "      <th>capital_loss</th>\n",
       "      <th>hours_per_week</th>\n",
       "      <th>native_country</th>\n",
       "      <th>output</th>\n",
       "    </tr>\n",
       "  </thead>\n",
       "  <tbody>\n",
       "    <tr>\n",
       "      <th>0</th>\n",
       "      <td>39</td>\n",
       "      <td>State-gov</td>\n",
       "      <td>77516.0</td>\n",
       "      <td>Bachelors</td>\n",
       "      <td>13.0</td>\n",
       "      <td>Never-married</td>\n",
       "      <td>Adm-clerical</td>\n",
       "      <td>Not-in-family</td>\n",
       "      <td>White</td>\n",
       "      <td>Male</td>\n",
       "      <td>2174.0</td>\n",
       "      <td>0.0</td>\n",
       "      <td>40.0</td>\n",
       "      <td>United-States</td>\n",
       "      <td>&lt;=50K</td>\n",
       "    </tr>\n",
       "    <tr>\n",
       "      <th>1</th>\n",
       "      <td>50</td>\n",
       "      <td>Self-emp-not-inc</td>\n",
       "      <td>83311.0</td>\n",
       "      <td>Bachelors</td>\n",
       "      <td>13.0</td>\n",
       "      <td>Married-civ-spouse</td>\n",
       "      <td>Exec-managerial</td>\n",
       "      <td>Husband</td>\n",
       "      <td>White</td>\n",
       "      <td>Male</td>\n",
       "      <td>0.0</td>\n",
       "      <td>0.0</td>\n",
       "      <td>13.0</td>\n",
       "      <td>United-States</td>\n",
       "      <td>&lt;=50K</td>\n",
       "    </tr>\n",
       "    <tr>\n",
       "      <th>2</th>\n",
       "      <td>38</td>\n",
       "      <td>Private</td>\n",
       "      <td>215646.0</td>\n",
       "      <td>HS-grad</td>\n",
       "      <td>9.0</td>\n",
       "      <td>Divorced</td>\n",
       "      <td>Handlers-cleaners</td>\n",
       "      <td>Not-in-family</td>\n",
       "      <td>White</td>\n",
       "      <td>Male</td>\n",
       "      <td>0.0</td>\n",
       "      <td>0.0</td>\n",
       "      <td>40.0</td>\n",
       "      <td>United-States</td>\n",
       "      <td>&lt;=50K</td>\n",
       "    </tr>\n",
       "    <tr>\n",
       "      <th>3</th>\n",
       "      <td>53</td>\n",
       "      <td>Private</td>\n",
       "      <td>234721.0</td>\n",
       "      <td>11th</td>\n",
       "      <td>7.0</td>\n",
       "      <td>Married-civ-spouse</td>\n",
       "      <td>Handlers-cleaners</td>\n",
       "      <td>Husband</td>\n",
       "      <td>Black</td>\n",
       "      <td>Male</td>\n",
       "      <td>0.0</td>\n",
       "      <td>0.0</td>\n",
       "      <td>40.0</td>\n",
       "      <td>United-States</td>\n",
       "      <td>&lt;=50K</td>\n",
       "    </tr>\n",
       "    <tr>\n",
       "      <th>4</th>\n",
       "      <td>28</td>\n",
       "      <td>Private</td>\n",
       "      <td>338409.0</td>\n",
       "      <td>Bachelors</td>\n",
       "      <td>13.0</td>\n",
       "      <td>Married-civ-spouse</td>\n",
       "      <td>Prof-specialty</td>\n",
       "      <td>Wife</td>\n",
       "      <td>Black</td>\n",
       "      <td>Female</td>\n",
       "      <td>0.0</td>\n",
       "      <td>0.0</td>\n",
       "      <td>40.0</td>\n",
       "      <td>Cuba</td>\n",
       "      <td>&lt;=50K</td>\n",
       "    </tr>\n",
       "  </tbody>\n",
       "</table>\n",
       "</div>"
      ],
      "text/plain": [
       "   age          workclass    fnlwgt   education  education_num  \\\n",
       "0   39          State-gov   77516.0   Bachelors           13.0   \n",
       "1   50   Self-emp-not-inc   83311.0   Bachelors           13.0   \n",
       "2   38            Private  215646.0     HS-grad            9.0   \n",
       "3   53            Private  234721.0        11th            7.0   \n",
       "4   28            Private  338409.0   Bachelors           13.0   \n",
       "\n",
       "        marital_status          occupation    relationship    race      sex  \\\n",
       "0        Never-married        Adm-clerical   Not-in-family   White     Male   \n",
       "1   Married-civ-spouse     Exec-managerial         Husband   White     Male   \n",
       "2             Divorced   Handlers-cleaners   Not-in-family   White     Male   \n",
       "3   Married-civ-spouse   Handlers-cleaners         Husband   Black     Male   \n",
       "4   Married-civ-spouse      Prof-specialty            Wife   Black   Female   \n",
       "\n",
       "   capital_gain  capital_loss  hours_per_week  native_country  output  \n",
       "0        2174.0           0.0            40.0   United-States   <=50K  \n",
       "1           0.0           0.0            13.0   United-States   <=50K  \n",
       "2           0.0           0.0            40.0   United-States   <=50K  \n",
       "3           0.0           0.0            40.0   United-States   <=50K  \n",
       "4           0.0           0.0            40.0            Cuba   <=50K  "
      ]
     },
     "execution_count": 7,
     "metadata": {},
     "output_type": "execute_result"
    }
   ],
   "source": [
    "adult_whole_df = adult_train_df.union(adult_test_df)\n",
    "adult_whole_df.limit(5).toPandas().head()"
   ]
  },
  {
   "cell_type": "markdown",
   "id": "f384587a",
   "metadata": {},
   "source": [
    "# == VERİ TEMİZLİĞİ AŞAMASI =="
   ]
  },
  {
   "cell_type": "markdown",
   "id": "9b287a13",
   "metadata": {},
   "source": [
    "1.HEDEF TÜM SATUNLARDA BOŞLUK KONTROLÜ YAP"
   ]
  },
  {
   "cell_type": "code",
   "execution_count": 8,
   "id": "2ac8a888",
   "metadata": {},
   "outputs": [],
   "source": [
    "from pyspark.sql.functions import *"
   ]
  },
  {
   "cell_type": "code",
   "execution_count": 9,
   "id": "0848bf67",
   "metadata": {},
   "outputs": [],
   "source": [
    "adult_whole_df1 = adult_whole_df \\\n",
    ".withColumn(\"workclass\", trim(col(\"workclass\"))) \\\n",
    ".withColumn(\"education\", trim(col(\"education\"))) \\\n",
    ".withColumn(\"marital_status\", trim(col(\"marital_status\"))) \\\n",
    ".withColumn(\"occupation\", trim(col(\"occupation\"))) \\\n",
    ".withColumn(\"relationship\", trim(col(\"relationship\"))) \\\n",
    ".withColumn(\"race\", trim(col(\"race\"))) \\\n",
    ".withColumn(\"sex\", trim(col(\"sex\"))) \\\n",
    ".withColumn(\"native_country\", trim(col(\"native_country\"))) \\\n",
    ".withColumn(\"output\", trim(col(\"output\")))"
   ]
  },
  {
   "cell_type": "code",
   "execution_count": 10,
   "id": "d322a20f",
   "metadata": {},
   "outputs": [
    {
     "data": {
      "text/plain": [
       "48842"
      ]
     },
     "execution_count": 10,
     "metadata": {},
     "output_type": "execute_result"
    }
   ],
   "source": [
    "adult_whole_df.count()"
   ]
  },
  {
   "cell_type": "code",
   "execution_count": 11,
   "id": "c324fa80",
   "metadata": {},
   "outputs": [
    {
     "data": {
      "text/plain": [
       "48842"
      ]
     },
     "execution_count": 11,
     "metadata": {},
     "output_type": "execute_result"
    }
   ],
   "source": [
    "adult_whole_df1.count()"
   ]
  },
  {
   "cell_type": "markdown",
   "id": "34a6acf5",
   "metadata": {},
   "source": [
    "GÖRÜNDÜĞÜ GİBİ HİÇ BOŞ SÜTUN OLMADIĞI İÇİN DEĞİŞEN BİR ŞEY OLMADI"
   ]
  },
  {
   "cell_type": "markdown",
   "id": "bc46cc5b",
   "metadata": {},
   "source": [
    "# 2.ADIM OUTPUT İÇİNDEKİ \".\" TEMİZLİĞİ"
   ]
  },
  {
   "cell_type": "markdown",
   "id": "dfc4aac8",
   "metadata": {},
   "source": [
    "NEDEN 2. OLARAK BU ADIMI YAPIYORUZ ?\n",
    "ÇÜNKÜ BU YÜZDEN 4 TANE ÇIKTI VAR BUNU İKİYE DÜŞÜRMEMİZ LAZIM DÜŞÜN BATU SEBEBİNİ HATIRLAYACAKSIN ŞUAN \n",
    "BURAYA YAZMAK ÇOK ZOR"
   ]
  },
  {
   "cell_type": "markdown",
   "id": "43488a75",
   "metadata": {},
   "source": [
    ". İÇERENLERİ REPLACE İLE DEĞİŞTİRME"
   ]
  },
  {
   "cell_type": "code",
   "execution_count": 12,
   "id": "30a50204",
   "metadata": {},
   "outputs": [],
   "source": [
    "adult_whole_df2 = adult_whole_df1 \\\n",
    ".withColumn(\"output\", regexp_replace(col(\"output\"),\"<=50K.\",\"<=50K\")) \\\n",
    ".withColumn(\"output\", regexp_replace(col(\"output\"), \">50K.\",\">50K\"))"
   ]
  },
  {
   "cell_type": "markdown",
   "id": "24777ec1",
   "metadata": {},
   "source": [
    "ŞİMDİ İŞLEMLER TAMAM MI DİYE İNCELEYELİM"
   ]
  },
  {
   "cell_type": "code",
   "execution_count": 14,
   "id": "cc1018f1",
   "metadata": {},
   "outputs": [
    {
     "name": "stderr",
     "output_type": "stream",
     "text": [
      "                                                                                \r"
     ]
    },
    {
     "data": {
      "text/html": [
       "<div>\n",
       "<style scoped>\n",
       "    .dataframe tbody tr th:only-of-type {\n",
       "        vertical-align: middle;\n",
       "    }\n",
       "\n",
       "    .dataframe tbody tr th {\n",
       "        vertical-align: top;\n",
       "    }\n",
       "\n",
       "    .dataframe thead th {\n",
       "        text-align: right;\n",
       "    }\n",
       "</style>\n",
       "<table border=\"1\" class=\"dataframe\">\n",
       "  <thead>\n",
       "    <tr style=\"text-align: right;\">\n",
       "      <th></th>\n",
       "      <th>output</th>\n",
       "      <th>count(1)</th>\n",
       "    </tr>\n",
       "  </thead>\n",
       "  <tbody>\n",
       "    <tr>\n",
       "      <th>0</th>\n",
       "      <td>&lt;=50K</td>\n",
       "      <td>37155</td>\n",
       "    </tr>\n",
       "    <tr>\n",
       "      <th>1</th>\n",
       "      <td>&gt;50K</td>\n",
       "      <td>11687</td>\n",
       "    </tr>\n",
       "  </tbody>\n",
       "</table>\n",
       "</div>"
      ],
      "text/plain": [
       "  output  count(1)\n",
       "0  <=50K     37155\n",
       "1   >50K     11687"
      ]
     },
     "execution_count": 14,
     "metadata": {},
     "output_type": "execute_result"
    }
   ],
   "source": [
    "adult_whole_df2.createOrReplaceTempView(\"output\")\n",
    "spark.sql(\" SELECT output, COUNT(*) from output GROUP BY output LIMIT 10\") \\\n",
    ".toPandas().head(10)"
   ]
  },
  {
   "cell_type": "markdown",
   "id": "244bb164",
   "metadata": {},
   "source": [
    "# 3. NULL KONTROLÜ"
   ]
  },
  {
   "cell_type": "code",
   "execution_count": 15,
   "id": "05aff455",
   "metadata": {
    "scrolled": true
   },
   "outputs": [
    {
     "name": "stderr",
     "output_type": "stream",
     "text": [
      "\r",
      "[Stage 16:=============================>                            (1 + 1) / 2]\r"
     ]
    },
    {
     "name": "stdout",
     "output_type": "stream",
     "text": [
      "1 age\n"
     ]
    },
    {
     "name": "stderr",
     "output_type": "stream",
     "text": [
      "\r",
      "                                                                                \r"
     ]
    },
    {
     "name": "stdout",
     "output_type": "stream",
     "text": [
      "2 workclass\n",
      "3 fnlwgt\n",
      "4 education\n",
      "5 education_num\n",
      "6 marital_status\n",
      "7 occupation\n",
      "8 relationship\n",
      "9 race\n",
      "10 sex\n",
      "11 capital_gain\n",
      "12 capital_loss\n",
      "13 hours_per_week\n",
      "14 native_country\n",
      "15 output\n"
     ]
    }
   ],
   "source": [
    "sayac_for_null = 1\n",
    "for sutun in adult_whole_df2.columns:\n",
    "    if(adult_whole_df2.filter(col(sutun).isNull()).count() > 0):\n",
    "        print(sayac_for_nul, \".\", sutun, \"içinde null var.\")\n",
    "    else:\n",
    "        print(sayac_for_null, sutun)\n",
    "    sayac_for_null +=1"
   ]
  },
  {
   "cell_type": "code",
   "execution_count": 16,
   "id": "d9f1d567",
   "metadata": {},
   "outputs": [],
   "source": [
    "# DEMEKKİ İÇİNDE HERHANGİ BİR NULL YOQQ FAKAT YUKARIDAKİ KODU ÇÖZÜMLEMEYE ÇALIŞ BATU KINIK"
   ]
  },
  {
   "cell_type": "markdown",
   "id": "f3badb24",
   "metadata": {},
   "source": [
    "# 4. \"?\" KONTROLLERİ"
   ]
  },
  {
   "cell_type": "code",
   "execution_count": 17,
   "id": "f1aedba1",
   "metadata": {},
   "outputs": [
    {
     "name": "stdout",
     "output_type": "stream",
     "text": [
      "1 age\n",
      "2 , workclass içinde ? var\n",
      "3 fnlwgt\n",
      "4 education\n",
      "5 education_num\n",
      "6 marital_status\n",
      "7 , occupation içinde ? var\n",
      "8 relationship\n",
      "9 race\n",
      "10 sex\n",
      "11 capital_gain\n",
      "12 capital_loss\n",
      "13 hours_per_week\n",
      "14 , native_country içinde ? var\n",
      "15 output\n"
     ]
    }
   ],
   "source": [
    "sayac_for_question = 1\n",
    "for sutun in adult_whole_df2.columns:\n",
    "    if(adult_whole_df2.filter(col(sutun).contains(\"?\")).count() > 0):\n",
    "        print(sayac_for_question, \",\", sutun, \"içinde ? var\")\n",
    "    else:\n",
    "        print(sayac_for_question, sutun)\n",
    "    sayac_for_question +=1"
   ]
  },
  {
   "cell_type": "code",
   "execution_count": 20,
   "id": "35f4f067",
   "metadata": {},
   "outputs": [
    {
     "name": "stderr",
     "output_type": "stream",
     "text": [
      "                                                                                \r"
     ]
    },
    {
     "data": {
      "text/html": [
       "<div>\n",
       "<style scoped>\n",
       "    .dataframe tbody tr th:only-of-type {\n",
       "        vertical-align: middle;\n",
       "    }\n",
       "\n",
       "    .dataframe tbody tr th {\n",
       "        vertical-align: top;\n",
       "    }\n",
       "\n",
       "    .dataframe thead th {\n",
       "        text-align: right;\n",
       "    }\n",
       "</style>\n",
       "<table border=\"1\" class=\"dataframe\">\n",
       "  <thead>\n",
       "    <tr style=\"text-align: right;\">\n",
       "      <th></th>\n",
       "      <th>workclass</th>\n",
       "      <th>occupation</th>\n",
       "      <th>native_country</th>\n",
       "      <th>output</th>\n",
       "      <th>count</th>\n",
       "    </tr>\n",
       "  </thead>\n",
       "  <tbody>\n",
       "    <tr>\n",
       "      <th>0</th>\n",
       "      <td>?</td>\n",
       "      <td>?</td>\n",
       "      <td>United-States</td>\n",
       "      <td>&lt;=50K</td>\n",
       "      <td>2284</td>\n",
       "    </tr>\n",
       "    <tr>\n",
       "      <th>1</th>\n",
       "      <td>?</td>\n",
       "      <td>?</td>\n",
       "      <td>United-States</td>\n",
       "      <td>&gt;50K</td>\n",
       "      <td>246</td>\n",
       "    </tr>\n",
       "    <tr>\n",
       "      <th>2</th>\n",
       "      <td>Private</td>\n",
       "      <td>Other-service</td>\n",
       "      <td>?</td>\n",
       "      <td>&lt;=50K</td>\n",
       "      <td>100</td>\n",
       "    </tr>\n",
       "    <tr>\n",
       "      <th>3</th>\n",
       "      <td>Private</td>\n",
       "      <td>Sales</td>\n",
       "      <td>?</td>\n",
       "      <td>&lt;=50K</td>\n",
       "      <td>55</td>\n",
       "    </tr>\n",
       "    <tr>\n",
       "      <th>4</th>\n",
       "      <td>Private</td>\n",
       "      <td>Prof-specialty</td>\n",
       "      <td>?</td>\n",
       "      <td>&lt;=50K</td>\n",
       "      <td>51</td>\n",
       "    </tr>\n",
       "    <tr>\n",
       "      <th>...</th>\n",
       "      <td>...</td>\n",
       "      <td>...</td>\n",
       "      <td>...</td>\n",
       "      <td>...</td>\n",
       "      <td>...</td>\n",
       "    </tr>\n",
       "    <tr>\n",
       "      <th>95</th>\n",
       "      <td>Local-gov</td>\n",
       "      <td>Exec-managerial</td>\n",
       "      <td>?</td>\n",
       "      <td>&lt;=50K</td>\n",
       "      <td>1</td>\n",
       "    </tr>\n",
       "    <tr>\n",
       "      <th>96</th>\n",
       "      <td>?</td>\n",
       "      <td>?</td>\n",
       "      <td>Peru</td>\n",
       "      <td>&lt;=50K</td>\n",
       "      <td>1</td>\n",
       "    </tr>\n",
       "    <tr>\n",
       "      <th>97</th>\n",
       "      <td>Federal-gov</td>\n",
       "      <td>Protective-serv</td>\n",
       "      <td>?</td>\n",
       "      <td>&lt;=50K</td>\n",
       "      <td>1</td>\n",
       "    </tr>\n",
       "    <tr>\n",
       "      <th>98</th>\n",
       "      <td>Local-gov</td>\n",
       "      <td>Exec-managerial</td>\n",
       "      <td>?</td>\n",
       "      <td>&gt;50K</td>\n",
       "      <td>1</td>\n",
       "    </tr>\n",
       "    <tr>\n",
       "      <th>99</th>\n",
       "      <td>?</td>\n",
       "      <td>?</td>\n",
       "      <td>Philippines</td>\n",
       "      <td>&gt;50K</td>\n",
       "      <td>1</td>\n",
       "    </tr>\n",
       "  </tbody>\n",
       "</table>\n",
       "<p>100 rows × 5 columns</p>\n",
       "</div>"
      ],
      "text/plain": [
       "      workclass       occupation native_country output  count\n",
       "0             ?                ?  United-States  <=50K   2284\n",
       "1             ?                ?  United-States   >50K    246\n",
       "2       Private    Other-service              ?  <=50K    100\n",
       "3       Private            Sales              ?  <=50K     55\n",
       "4       Private   Prof-specialty              ?  <=50K     51\n",
       "..          ...              ...            ...    ...    ...\n",
       "95    Local-gov  Exec-managerial              ?  <=50K      1\n",
       "96            ?                ?           Peru  <=50K      1\n",
       "97  Federal-gov  Protective-serv              ?  <=50K      1\n",
       "98    Local-gov  Exec-managerial              ?   >50K      1\n",
       "99            ?                ?    Philippines   >50K      1\n",
       "\n",
       "[100 rows x 5 columns]"
      ]
     },
     "execution_count": 20,
     "metadata": {},
     "output_type": "execute_result"
    }
   ],
   "source": [
    "adult_whole_df2.select(\"workclass\",\"occupation\",\"native_country\",\"output\") \\\n",
    ".filter(\n",
    "    col(\"workclass\").contains(\"?\") |\n",
    "    col(\"occupation\").contains(\"?\") |\n",
    "    col(\"native_country\").contains(\"?\") \n",
    "    \n",
    ") \\\n",
    ".groupBy(\"workclass\",\"occupation\",\"native_country\",\"output\").count() \\\n",
    ".orderBy(col(\"count\").desc()) \\\n",
    ".toPandas().head(100)"
   ]
  },
  {
   "cell_type": "code",
   "execution_count": null,
   "id": "dcf22791",
   "metadata": {},
   "outputs": [],
   "source": [
    "# Soru işaretlerinin dağılımı ve hedef değişken ilgisi tesadüfi görünüyor. Bu durumda ? işareti içeren satırları\n",
    "# veri setinden çıkaralım"
   ]
  },
  {
   "cell_type": "code",
   "execution_count": 22,
   "id": "f9029bb4",
   "metadata": {},
   "outputs": [
    {
     "name": "stdout",
     "output_type": "stream",
     "text": [
      "48842\n",
      "45222\n"
     ]
    }
   ],
   "source": [
    "adult_whole_df3 = adult_whole_df2.filter(~(\n",
    "    col(\"workclass\").contains(\"?\") |\n",
    "    col(\"occupation\").contains(\"?\") |\n",
    "    col(\"native_country\").contains(\"?\") \n",
    "\n",
    "))\n",
    "print(adult_whole_df2.count())\n",
    "print(adult_whole_df3.count())"
   ]
  },
  {
   "cell_type": "code",
   "execution_count": null,
   "id": "674009ba",
   "metadata": {},
   "outputs": [],
   "source": [
    "# Yukarıdaki kod ile birlikte ? işareti içeren datalardan kurtulmuş olduk"
   ]
  },
  {
   "cell_type": "markdown",
   "id": "3a7d22d8",
   "metadata": {},
   "source": [
    "# 5. ZAYIF SINIFLARIN KALDIRILMASI"
   ]
  },
  {
   "cell_type": "code",
   "execution_count": null,
   "id": "24f643d1",
   "metadata": {},
   "outputs": [],
   "source": [
    "# workclass niteliğinde never-worked ve without-pay sınıfları ve occupation niteliğinde armed-forces sınıfı\n",
    "# çok az tekrarlanmış. Veri setinden çıkarılabilir"
   ]
  },
  {
   "cell_type": "code",
   "execution_count": 28,
   "id": "2cfef0ad",
   "metadata": {},
   "outputs": [
    {
     "name": "stdout",
     "output_type": "stream",
     "text": [
      "45222\n",
      "45207\n"
     ]
    }
   ],
   "source": [
    "adult_whole_df4 = adult_whole_df3 \\\n",
    ".filter(~(\n",
    "col(\"workclass\").contains(\"never-worked\") | col(\"workclass\").contains(\"without-pay\") |\n",
    "    col(\"occupation\").contains(\"Armed-Forces\") | col(\"native_country\").contains(\"Holand-Netherlands\")\n",
    "))\n",
    "\n",
    "print(adult_whole_df3.count())\n",
    "print(adult_whole_df4.count())"
   ]
  },
  {
   "cell_type": "markdown",
   "id": "41f58682",
   "metadata": {},
   "source": [
    "# 6. EĞİTİM DURUMLARIYLA İLGİLİ KATEGORİLERİN BİRLEŞTİRİLMESİ"
   ]
  },
  {
   "cell_type": "markdown",
   "id": "a3f05e8e",
   "metadata": {},
   "source": [
    "education niteliğindeki ;\n",
    "\n",
    "1st-4th, 5th-6th, 7th-8th: elementary-school\n",
    "\n",
    "9th, 10th, 11th, 12th : high school\n",
    "\n",
    "Master, Doctorae : high-education\n",
    "    \n",
    "Bachelors, Some-college : undergraduate\n",
    "    \n",
    "sınıfları yukarıdaki gibi birleştirilebilir"
   ]
  },
  {
   "cell_type": "code",
   "execution_count": 29,
   "id": "872c7a2d",
   "metadata": {},
   "outputs": [
    {
     "name": "stderr",
     "output_type": "stream",
     "text": [
      "                                                                                \r"
     ]
    },
    {
     "data": {
      "text/html": [
       "<div>\n",
       "<style scoped>\n",
       "    .dataframe tbody tr th:only-of-type {\n",
       "        vertical-align: middle;\n",
       "    }\n",
       "\n",
       "    .dataframe tbody tr th {\n",
       "        vertical-align: top;\n",
       "    }\n",
       "\n",
       "    .dataframe thead th {\n",
       "        text-align: right;\n",
       "    }\n",
       "</style>\n",
       "<table border=\"1\" class=\"dataframe\">\n",
       "  <thead>\n",
       "    <tr style=\"text-align: right;\">\n",
       "      <th></th>\n",
       "      <th>education</th>\n",
       "      <th>education_merged</th>\n",
       "    </tr>\n",
       "  </thead>\n",
       "  <tbody>\n",
       "    <tr>\n",
       "      <th>0</th>\n",
       "      <td>Bachelors</td>\n",
       "      <td>Undergraduate</td>\n",
       "    </tr>\n",
       "    <tr>\n",
       "      <th>1</th>\n",
       "      <td>Bachelors</td>\n",
       "      <td>Undergraduate</td>\n",
       "    </tr>\n",
       "    <tr>\n",
       "      <th>2</th>\n",
       "      <td>HS-grad</td>\n",
       "      <td>HS-grad</td>\n",
       "    </tr>\n",
       "    <tr>\n",
       "      <th>3</th>\n",
       "      <td>11th</td>\n",
       "      <td>High-School</td>\n",
       "    </tr>\n",
       "    <tr>\n",
       "      <th>4</th>\n",
       "      <td>Bachelors</td>\n",
       "      <td>Undergraduate</td>\n",
       "    </tr>\n",
       "    <tr>\n",
       "      <th>5</th>\n",
       "      <td>Masters</td>\n",
       "      <td>Masters</td>\n",
       "    </tr>\n",
       "    <tr>\n",
       "      <th>6</th>\n",
       "      <td>9th</td>\n",
       "      <td>High-School</td>\n",
       "    </tr>\n",
       "    <tr>\n",
       "      <th>7</th>\n",
       "      <td>HS-grad</td>\n",
       "      <td>HS-grad</td>\n",
       "    </tr>\n",
       "    <tr>\n",
       "      <th>8</th>\n",
       "      <td>Masters</td>\n",
       "      <td>Masters</td>\n",
       "    </tr>\n",
       "    <tr>\n",
       "      <th>9</th>\n",
       "      <td>Bachelors</td>\n",
       "      <td>Undergraduate</td>\n",
       "    </tr>\n",
       "    <tr>\n",
       "      <th>10</th>\n",
       "      <td>Some-college</td>\n",
       "      <td>Undergraduate</td>\n",
       "    </tr>\n",
       "    <tr>\n",
       "      <th>11</th>\n",
       "      <td>Bachelors</td>\n",
       "      <td>Undergraduate</td>\n",
       "    </tr>\n",
       "    <tr>\n",
       "      <th>12</th>\n",
       "      <td>Bachelors</td>\n",
       "      <td>Undergraduate</td>\n",
       "    </tr>\n",
       "    <tr>\n",
       "      <th>13</th>\n",
       "      <td>Assoc-acdm</td>\n",
       "      <td>Assoc-acdm</td>\n",
       "    </tr>\n",
       "    <tr>\n",
       "      <th>14</th>\n",
       "      <td>7th-8th</td>\n",
       "      <td>Elementar-School</td>\n",
       "    </tr>\n",
       "    <tr>\n",
       "      <th>15</th>\n",
       "      <td>HS-grad</td>\n",
       "      <td>HS-grad</td>\n",
       "    </tr>\n",
       "    <tr>\n",
       "      <th>16</th>\n",
       "      <td>HS-grad</td>\n",
       "      <td>HS-grad</td>\n",
       "    </tr>\n",
       "    <tr>\n",
       "      <th>17</th>\n",
       "      <td>11th</td>\n",
       "      <td>High-School</td>\n",
       "    </tr>\n",
       "    <tr>\n",
       "      <th>18</th>\n",
       "      <td>Masters</td>\n",
       "      <td>Masters</td>\n",
       "    </tr>\n",
       "    <tr>\n",
       "      <th>19</th>\n",
       "      <td>Doctorate</td>\n",
       "      <td>Doctorate</td>\n",
       "    </tr>\n",
       "  </tbody>\n",
       "</table>\n",
       "</div>"
      ],
      "text/plain": [
       "       education  education_merged\n",
       "0      Bachelors     Undergraduate\n",
       "1      Bachelors     Undergraduate\n",
       "2        HS-grad           HS-grad\n",
       "3           11th       High-School\n",
       "4      Bachelors     Undergraduate\n",
       "5        Masters           Masters\n",
       "6            9th       High-School\n",
       "7        HS-grad           HS-grad\n",
       "8        Masters           Masters\n",
       "9      Bachelors     Undergraduate\n",
       "10  Some-college     Undergraduate\n",
       "11     Bachelors     Undergraduate\n",
       "12     Bachelors     Undergraduate\n",
       "13    Assoc-acdm        Assoc-acdm\n",
       "14       7th-8th  Elementar-School\n",
       "15       HS-grad           HS-grad\n",
       "16       HS-grad           HS-grad\n",
       "17          11th       High-School\n",
       "18       Masters           Masters\n",
       "19     Doctorate         Doctorate"
      ]
     },
     "execution_count": 29,
     "metadata": {},
     "output_type": "execute_result"
    }
   ],
   "source": [
    "adult_whole_df5 = adult_whole_df4.withColumn(\"education_merged\",\n",
    "when(col(\"education\").isin(\"1st-4th\", \"5th-6th\", \"7th-8th\"), \"Elementar-School\")\n",
    ".when(col(\"education\").isin(\"9th\", \"10th\", \"11th\", \"12th\"), \"High-School\")\n",
    ".when(col(\"education\").isin(\"Masters,Doctorate\"), \"Postgraduate\")\n",
    ".when(col(\"education\").isin(\"Bachelors\",\"Some-college\"), \"Undergraduate\")\n",
    ".otherwise(col(\"education\"))\n",
    "                                            )\n",
    "\n",
    "adult_whole_df5.select(\"education\",\"education_merged\").toPandas().head(20)                                            \n",
    "                                            \n",
    "                                            "
   ]
  },
  {
   "cell_type": "code",
   "execution_count": null,
   "id": "b42112ec",
   "metadata": {},
   "outputs": [],
   "source": [
    "# Yeni Bir Sütun Ekledik. education_merged, Daha sade"
   ]
  },
  {
   "cell_type": "code",
   "execution_count": 34,
   "id": "791c2e57",
   "metadata": {},
   "outputs": [],
   "source": [
    "nitelik_siralama = [\"workclass\",\"education\", \"education_merged\", \"marital_status\", \"occupation\",\"relationship\"\n",
    "                   ,\"sex\", \"native_country\", \"age\", \"fnlwgt\", \"education_num\", \"capital_gain\", \"capital_loss\",\n",
    "                   \"hours_per_week\",\"output\"]"
   ]
  },
  {
   "cell_type": "code",
   "execution_count": 35,
   "id": "a44b8a3b",
   "metadata": {},
   "outputs": [
    {
     "name": "stderr",
     "output_type": "stream",
     "text": [
      "                                                                                \r"
     ]
    },
    {
     "data": {
      "text/html": [
       "<div>\n",
       "<style scoped>\n",
       "    .dataframe tbody tr th:only-of-type {\n",
       "        vertical-align: middle;\n",
       "    }\n",
       "\n",
       "    .dataframe tbody tr th {\n",
       "        vertical-align: top;\n",
       "    }\n",
       "\n",
       "    .dataframe thead th {\n",
       "        text-align: right;\n",
       "    }\n",
       "</style>\n",
       "<table border=\"1\" class=\"dataframe\">\n",
       "  <thead>\n",
       "    <tr style=\"text-align: right;\">\n",
       "      <th></th>\n",
       "      <th>workclass</th>\n",
       "      <th>education</th>\n",
       "      <th>education_merged</th>\n",
       "      <th>marital_status</th>\n",
       "      <th>occupation</th>\n",
       "      <th>relationship</th>\n",
       "      <th>sex</th>\n",
       "      <th>native_country</th>\n",
       "      <th>age</th>\n",
       "      <th>fnlwgt</th>\n",
       "      <th>education_num</th>\n",
       "      <th>capital_gain</th>\n",
       "      <th>capital_loss</th>\n",
       "      <th>hours_per_week</th>\n",
       "      <th>output</th>\n",
       "    </tr>\n",
       "  </thead>\n",
       "  <tbody>\n",
       "    <tr>\n",
       "      <th>0</th>\n",
       "      <td>State-gov</td>\n",
       "      <td>Bachelors</td>\n",
       "      <td>Undergraduate</td>\n",
       "      <td>Never-married</td>\n",
       "      <td>Adm-clerical</td>\n",
       "      <td>Not-in-family</td>\n",
       "      <td>Male</td>\n",
       "      <td>United-States</td>\n",
       "      <td>39</td>\n",
       "      <td>77516.0</td>\n",
       "      <td>13.0</td>\n",
       "      <td>2174.0</td>\n",
       "      <td>0.0</td>\n",
       "      <td>40.0</td>\n",
       "      <td>&lt;=50K</td>\n",
       "    </tr>\n",
       "    <tr>\n",
       "      <th>1</th>\n",
       "      <td>Self-emp-not-inc</td>\n",
       "      <td>Bachelors</td>\n",
       "      <td>Undergraduate</td>\n",
       "      <td>Married-civ-spouse</td>\n",
       "      <td>Exec-managerial</td>\n",
       "      <td>Husband</td>\n",
       "      <td>Male</td>\n",
       "      <td>United-States</td>\n",
       "      <td>50</td>\n",
       "      <td>83311.0</td>\n",
       "      <td>13.0</td>\n",
       "      <td>0.0</td>\n",
       "      <td>0.0</td>\n",
       "      <td>13.0</td>\n",
       "      <td>&lt;=50K</td>\n",
       "    </tr>\n",
       "    <tr>\n",
       "      <th>2</th>\n",
       "      <td>Private</td>\n",
       "      <td>HS-grad</td>\n",
       "      <td>HS-grad</td>\n",
       "      <td>Divorced</td>\n",
       "      <td>Handlers-cleaners</td>\n",
       "      <td>Not-in-family</td>\n",
       "      <td>Male</td>\n",
       "      <td>United-States</td>\n",
       "      <td>38</td>\n",
       "      <td>215646.0</td>\n",
       "      <td>9.0</td>\n",
       "      <td>0.0</td>\n",
       "      <td>0.0</td>\n",
       "      <td>40.0</td>\n",
       "      <td>&lt;=50K</td>\n",
       "    </tr>\n",
       "    <tr>\n",
       "      <th>3</th>\n",
       "      <td>Private</td>\n",
       "      <td>11th</td>\n",
       "      <td>High-School</td>\n",
       "      <td>Married-civ-spouse</td>\n",
       "      <td>Handlers-cleaners</td>\n",
       "      <td>Husband</td>\n",
       "      <td>Male</td>\n",
       "      <td>United-States</td>\n",
       "      <td>53</td>\n",
       "      <td>234721.0</td>\n",
       "      <td>7.0</td>\n",
       "      <td>0.0</td>\n",
       "      <td>0.0</td>\n",
       "      <td>40.0</td>\n",
       "      <td>&lt;=50K</td>\n",
       "    </tr>\n",
       "    <tr>\n",
       "      <th>4</th>\n",
       "      <td>Private</td>\n",
       "      <td>Bachelors</td>\n",
       "      <td>Undergraduate</td>\n",
       "      <td>Married-civ-spouse</td>\n",
       "      <td>Prof-specialty</td>\n",
       "      <td>Wife</td>\n",
       "      <td>Female</td>\n",
       "      <td>Cuba</td>\n",
       "      <td>28</td>\n",
       "      <td>338409.0</td>\n",
       "      <td>13.0</td>\n",
       "      <td>0.0</td>\n",
       "      <td>0.0</td>\n",
       "      <td>40.0</td>\n",
       "      <td>&lt;=50K</td>\n",
       "    </tr>\n",
       "  </tbody>\n",
       "</table>\n",
       "</div>"
      ],
      "text/plain": [
       "          workclass  education education_merged      marital_status  \\\n",
       "0         State-gov  Bachelors    Undergraduate       Never-married   \n",
       "1  Self-emp-not-inc  Bachelors    Undergraduate  Married-civ-spouse   \n",
       "2           Private    HS-grad          HS-grad            Divorced   \n",
       "3           Private       11th      High-School  Married-civ-spouse   \n",
       "4           Private  Bachelors    Undergraduate  Married-civ-spouse   \n",
       "\n",
       "          occupation   relationship     sex native_country  age    fnlwgt  \\\n",
       "0       Adm-clerical  Not-in-family    Male  United-States   39   77516.0   \n",
       "1    Exec-managerial        Husband    Male  United-States   50   83311.0   \n",
       "2  Handlers-cleaners  Not-in-family    Male  United-States   38  215646.0   \n",
       "3  Handlers-cleaners        Husband    Male  United-States   53  234721.0   \n",
       "4     Prof-specialty           Wife  Female           Cuba   28  338409.0   \n",
       "\n",
       "   education_num  capital_gain  capital_loss  hours_per_week output  \n",
       "0           13.0        2174.0           0.0            40.0  <=50K  \n",
       "1           13.0           0.0           0.0            13.0  <=50K  \n",
       "2            9.0           0.0           0.0            40.0  <=50K  \n",
       "3            7.0           0.0           0.0            40.0  <=50K  \n",
       "4           13.0           0.0           0.0            40.0  <=50K  "
      ]
     },
     "execution_count": 35,
     "metadata": {},
     "output_type": "execute_result"
    }
   ],
   "source": [
    "adult_whole_df6 = adult_whole_df5.select(nitelik_siralama)\n",
    "adult_whole_df6.toPandas().head()"
   ]
  },
  {
   "cell_type": "code",
   "execution_count": 36,
   "id": "c9231bb1",
   "metadata": {},
   "outputs": [
    {
     "name": "stderr",
     "output_type": "stream",
     "text": [
      "                                                                                \r"
     ]
    }
   ],
   "source": [
    "adult_whole_df6 \\\n",
    ".coalesce(1) \\\n",
    ".write \\\n",
    ".mode(\"overwrite\") \\\n",
    ".option(\"sep\",\",\") \\\n",
    ".option(\"header\",\"True\") \\\n",
    ".csv(\"/home/batuhan/Desktop/new_adult_data\")"
   ]
  },
  {
   "cell_type": "code",
   "execution_count": null,
   "id": "3fe3a31e",
   "metadata": {},
   "outputs": [],
   "source": []
  },
  {
   "cell_type": "code",
   "execution_count": null,
   "id": "deb0d010",
   "metadata": {},
   "outputs": [],
   "source": []
  },
  {
   "cell_type": "code",
   "execution_count": null,
   "id": "4bbe2a9b",
   "metadata": {},
   "outputs": [],
   "source": []
  },
  {
   "cell_type": "code",
   "execution_count": null,
   "id": "4ffec326",
   "metadata": {},
   "outputs": [],
   "source": []
  },
  {
   "cell_type": "code",
   "execution_count": null,
   "id": "b93d2725",
   "metadata": {},
   "outputs": [],
   "source": []
  }
 ],
 "metadata": {
  "kernelspec": {
   "display_name": "Python 3 (ipykernel)",
   "language": "python",
   "name": "python3"
  },
  "language_info": {
   "codemirror_mode": {
    "name": "ipython",
    "version": 3
   },
   "file_extension": ".py",
   "mimetype": "text/x-python",
   "name": "python",
   "nbconvert_exporter": "python",
   "pygments_lexer": "ipython3",
   "version": "3.10.6"
  }
 },
 "nbformat": 4,
 "nbformat_minor": 5
}
