{
 "cells": [
  {
   "cell_type": "code",
   "execution_count": 32,
   "id": "491bcbe6",
   "metadata": {},
   "outputs": [],
   "source": [
    "import findspark\n",
    "findspark.init()\n",
    "\n",
    "from pyspark.sql import SparkSession\n",
    "from pyspark.sql.functions import col,regexp_replace,broadcast,lit"
   ]
  },
  {
   "cell_type": "code",
   "execution_count": 19,
   "id": "8e1e16ee",
   "metadata": {},
   "outputs": [],
   "source": [
    "spark = SparkSession.builder \\\n",
    ".appName(\"withColumn\") \\\n",
    ".master(\"local[4]\") \\\n",
    ".getOrCreate()"
   ]
  },
  {
   "cell_type": "code",
   "execution_count": 20,
   "id": "a07140ae",
   "metadata": {},
   "outputs": [],
   "source": [
    "df = [\n",
    "    (\"one\",\"22\",\"South\",\"Burs@\"),\n",
    "    (\"two\",\"33\",\"East\",\"Ankara\"),\n",
    "    (\"three\",\"56\",\"West\",\"Istanbul\"),\n",
    "    (\"four\",\"48\",\"North\",\"Izmir\")]\n",
    "\n",
    "schema2 = [\"Emp_no\",\"Age\",\"Region\",\"City\"]\n",
    "\n",
    "df2 = spark.createDataFrame(data = df, schema = schema2) "
   ]
  },
  {
   "cell_type": "code",
   "execution_count": 21,
   "id": "17a25f2e",
   "metadata": {},
   "outputs": [
    {
     "name": "stdout",
     "output_type": "stream",
     "text": [
      "+------+---+------+--------+\n",
      "|Emp_no|Age|Region|    City|\n",
      "+------+---+------+--------+\n",
      "|   one| 22| South|   Burs@|\n",
      "|   two| 33|  East|  Ankara|\n",
      "| three| 56|  West|Istanbul|\n",
      "|  four| 48| North|   Izmir|\n",
      "+------+---+------+--------+\n",
      "\n"
     ]
    }
   ],
   "source": [
    "df2.show()"
   ]
  },
  {
   "cell_type": "code",
   "execution_count": 22,
   "id": "e74e2da1",
   "metadata": {},
   "outputs": [],
   "source": [
    " df3 = df2.withColumn(\"Age\",df2[\"Age\"].cast(\"Integer\")) # Change the specific column schema"
   ]
  },
  {
   "cell_type": "code",
   "execution_count": 23,
   "id": "13755a1f",
   "metadata": {},
   "outputs": [
    {
     "name": "stdout",
     "output_type": "stream",
     "text": [
      "root\n",
      " |-- Emp_no: string (nullable = true)\n",
      " |-- Age: integer (nullable = true)\n",
      " |-- Region: string (nullable = true)\n",
      " |-- City: string (nullable = true)\n",
      "\n"
     ]
    }
   ],
   "source": [
    "df3.printSchema()"
   ]
  },
  {
   "cell_type": "code",
   "execution_count": 24,
   "id": "5b67f407",
   "metadata": {},
   "outputs": [],
   "source": [
    " df3 = df2.withColumn(\"Age\",df2[\"Age\"]*2) # We multiplied the ages by 2"
   ]
  },
  {
   "cell_type": "code",
   "execution_count": 25,
   "id": "f707bfd4",
   "metadata": {},
   "outputs": [
    {
     "name": "stdout",
     "output_type": "stream",
     "text": [
      "+------+-----+------+--------+\n",
      "|Emp_no|  Age|Region|    City|\n",
      "+------+-----+------+--------+\n",
      "|   one| 44.0| South|   Burs@|\n",
      "|   two| 66.0|  East|  Ankara|\n",
      "| three|112.0|  West|Istanbul|\n",
      "|  four| 96.0| North|   Izmir|\n",
      "+------+-----+------+--------+\n",
      "\n"
     ]
    }
   ],
   "source": [
    "df3.show()"
   ]
  },
  {
   "cell_type": "code",
   "execution_count": 26,
   "id": "52911f4a",
   "metadata": {},
   "outputs": [
    {
     "name": "stdout",
     "output_type": "stream",
     "text": [
      "+------+---+------+--------+--------------+\n",
      "|Emp_no|Age|Region|    City|multiplied_age|\n",
      "+------+---+------+--------+--------------+\n",
      "|   one| 22| South|   Burs@|          44.0|\n",
      "|   two| 33|  East|  Ankara|          66.0|\n",
      "| three| 56|  West|Istanbul|         112.0|\n",
      "|  four| 48| North|   Izmir|          96.0|\n",
      "+------+---+------+--------+--------------+\n",
      "\n"
     ]
    }
   ],
   "source": [
    "df3 = df2.withColumn(\"multiplied_age\",df2[\"Age\"]*2) \n",
    "df3.show()"
   ]
  },
  {
   "cell_type": "code",
   "execution_count": 29,
   "id": "90e6b6d4",
   "metadata": {},
   "outputs": [],
   "source": [
    "df4 = df3.withColumn(\"City\",regexp_replace(\"City\",\"@\",\"a\")) # Change any letters"
   ]
  },
  {
   "cell_type": "code",
   "execution_count": 30,
   "id": "6c577b8f",
   "metadata": {},
   "outputs": [
    {
     "name": "stdout",
     "output_type": "stream",
     "text": [
      "+------+---+------+--------+--------------+\n",
      "|Emp_no|Age|Region|    City|multiplied_age|\n",
      "+------+---+------+--------+--------------+\n",
      "|   one| 22| South|   Bursa|          44.0|\n",
      "|   two| 33|  East|  Ankara|          66.0|\n",
      "| three| 56|  West|Istanbul|         112.0|\n",
      "|  four| 48| North|   Izmir|          96.0|\n",
      "+------+---+------+--------+--------------+\n",
      "\n"
     ]
    }
   ],
   "source": [
    "df4.show()"
   ]
  },
  {
   "cell_type": "code",
   "execution_count": 34,
   "id": "d19bbde7",
   "metadata": {},
   "outputs": [],
   "source": [
    "df5 = df4.withColumn(\"New_Column\",lit(16))"
   ]
  },
  {
   "cell_type": "code",
   "execution_count": 35,
   "id": "c5310416",
   "metadata": {},
   "outputs": [
    {
     "name": "stdout",
     "output_type": "stream",
     "text": [
      "+------+---+------+--------+--------------+----------+\n",
      "|Emp_no|Age|Region|    City|multiplied_age|New_Column|\n",
      "+------+---+------+--------+--------------+----------+\n",
      "|   one| 22| South|   Bursa|          44.0|        16|\n",
      "|   two| 33|  East|  Ankara|          66.0|        16|\n",
      "| three| 56|  West|Istanbul|         112.0|        16|\n",
      "|  four| 48| North|   Izmir|          96.0|        16|\n",
      "+------+---+------+--------+--------------+----------+\n",
      "\n"
     ]
    }
   ],
   "source": [
    "df5.show()"
   ]
  },
  {
   "cell_type": "code",
   "execution_count": 37,
   "id": "687645b7",
   "metadata": {},
   "outputs": [],
   "source": [
    "df6 = df5.withColumnRenamed(\"New_Column\",\"Numbers\")"
   ]
  },
  {
   "cell_type": "code",
   "execution_count": 38,
   "id": "42a71807",
   "metadata": {},
   "outputs": [
    {
     "name": "stderr",
     "output_type": "stream",
     "text": [
      "\r",
      "[Stage 17:>                                                         (0 + 3) / 3]\r"
     ]
    },
    {
     "name": "stdout",
     "output_type": "stream",
     "text": [
      "+------+---+------+--------+--------------+-------+\n",
      "|Emp_no|Age|Region|    City|multiplied_age|Numbers|\n",
      "+------+---+------+--------+--------------+-------+\n",
      "|   one| 22| South|   Bursa|          44.0|     16|\n",
      "|   two| 33|  East|  Ankara|          66.0|     16|\n",
      "| three| 56|  West|Istanbul|         112.0|     16|\n",
      "|  four| 48| North|   Izmir|          96.0|     16|\n",
      "+------+---+------+--------+--------------+-------+\n",
      "\n"
     ]
    },
    {
     "name": "stderr",
     "output_type": "stream",
     "text": [
      "\r",
      "[Stage 17:===================>                                      (1 + 2) / 3]\r",
      "\r",
      "                                                                                \r"
     ]
    }
   ],
   "source": [
    "df6.show()"
   ]
  },
  {
   "cell_type": "raw",
   "id": "a04e0902",
   "metadata": {},
   "source": []
  },
  {
   "cell_type": "code",
   "execution_count": null,
   "id": "bd9d737e",
   "metadata": {},
   "outputs": [],
   "source": []
  },
  {
   "cell_type": "code",
   "execution_count": null,
   "id": "dac4f3e7",
   "metadata": {},
   "outputs": [],
   "source": []
  },
  {
   "cell_type": "code",
   "execution_count": null,
   "id": "5bcb89ae",
   "metadata": {},
   "outputs": [],
   "source": []
  }
 ],
 "metadata": {
  "kernelspec": {
   "display_name": "Python 3 (ipykernel)",
   "language": "python",
   "name": "python3"
  },
  "language_info": {
   "codemirror_mode": {
    "name": "ipython",
    "version": 3
   },
   "file_extension": ".py",
   "mimetype": "text/x-python",
   "name": "python",
   "nbconvert_exporter": "python",
   "pygments_lexer": "ipython3",
   "version": "3.10.6"
  }
 },
 "nbformat": 4,
 "nbformat_minor": 5
}
