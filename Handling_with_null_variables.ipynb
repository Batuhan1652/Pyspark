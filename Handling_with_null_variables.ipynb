{
 "cells": [
  {
   "cell_type": "code",
   "execution_count": 1,
   "id": "41ae8236",
   "metadata": {},
   "outputs": [],
   "source": [
    "import findspark\n",
    "findspark.init()"
   ]
  },
  {
   "cell_type": "code",
   "execution_count": 2,
   "id": "97c8eb6e",
   "metadata": {},
   "outputs": [
    {
     "name": "stdout",
     "output_type": "stream",
     "text": [
      "22/11/14 02:03:27 WARN Utils: Your hostname, batuhan-VirtualBox resolves to a loopback address: 127.0.1.1; using 10.0.2.15 instead (on interface enp0s3)\n",
      "22/11/14 02:03:27 WARN Utils: Set SPARK_LOCAL_IP if you need to bind to another address\n"
     ]
    },
    {
     "name": "stderr",
     "output_type": "stream",
     "text": [
      "Setting default log level to \"WARN\".\n",
      "To adjust logging level use sc.setLogLevel(newLevel). For SparkR, use setLogLevel(newLevel).\n"
     ]
    },
    {
     "name": "stdout",
     "output_type": "stream",
     "text": [
      "22/11/14 02:03:29 WARN NativeCodeLoader: Unable to load native-hadoop library for your platform... using builtin-java classes where applicable\n",
      "22/11/14 02:03:33 WARN Utils: Service 'SparkUI' could not bind on port 4040. Attempting port 4041.\n"
     ]
    }
   ],
   "source": [
    "from pyspark.sql import SparkSession\n",
    "spark = SparkSession.builder \\\n",
    ".master(\"local[4]\") \\\n",
    ".appName(\"Null\") \\\n",
    ".config(\"spark.driver.memory\",\"4g\") \\\n",
    ".config(\"spark.executor.memory\",\"4g\") \\\n",
    ".getOrCreate()"
   ]
  },
  {
   "cell_type": "code",
   "execution_count": 3,
   "id": "08cb89dc",
   "metadata": {},
   "outputs": [],
   "source": [
    "nullDF = spark.createDataFrame([\n",
    "    (1,\"Batu\",\"Bursa\",30003),\n",
    "    (2,\"Mehmet\",\"İstanbul\",30001),\n",
    "    (3,\"Ayşe\",\"İzmir\",None),\n",
    "    (4,\"Betül\",None,3001),\n",
    "    (5,\"Şeyda\",\"Tokat\",30006),\n",
    "    (None,None,None,None)],\n",
    "    [\"ID\",\"Name\",\"city\",\"pin\"]\n",
    "                              )"
   ]
  },
  {
   "cell_type": "code",
   "execution_count": 4,
   "id": "1f21048a",
   "metadata": {},
   "outputs": [
    {
     "name": "stderr",
     "output_type": "stream",
     "text": [
      "                                                                                \r"
     ]
    },
    {
     "name": "stdout",
     "output_type": "stream",
     "text": [
      "+----+------+--------+-----+\n",
      "|  ID|  Name|    city|  pin|\n",
      "+----+------+--------+-----+\n",
      "|   1|  Batu|   Bursa|30003|\n",
      "|   2|Mehmet|İstanbul|30001|\n",
      "|   3|  Ayşe|   İzmir| null|\n",
      "|   4| Betül|    null| 3001|\n",
      "|   5| Şeyda|   Tokat|30006|\n",
      "|null|  null|    null| null|\n",
      "+----+------+--------+-----+\n",
      "\n"
     ]
    }
   ],
   "source": [
    "nullDF.show()"
   ]
  },
  {
   "cell_type": "code",
   "execution_count": 5,
   "id": "76222964",
   "metadata": {},
   "outputs": [
    {
     "name": "stdout",
     "output_type": "stream",
     "text": [
      "+---+------+--------+-----+\n",
      "| ID|  Name|    city|  pin|\n",
      "+---+------+--------+-----+\n",
      "|  1|  Batu|   Bursa|30003|\n",
      "|  2|Mehmet|İstanbul|30001|\n",
      "|  5| Şeyda|   Tokat|30006|\n",
      "+---+------+--------+-----+\n",
      "\n"
     ]
    }
   ],
   "source": [
    "nulldropDF = nullDF.dropna(\"any\") #any or all\n",
    "nulldropDF.show() # Any'nin anlamı null bulduğun herhangi bir colu sil"
   ]
  },
  {
   "cell_type": "code",
   "execution_count": 6,
   "id": "395f097c",
   "metadata": {},
   "outputs": [
    {
     "name": "stdout",
     "output_type": "stream",
     "text": [
      "+---+------+--------+-----+\n",
      "| ID|  Name|    city|  pin|\n",
      "+---+------+--------+-----+\n",
      "|  1|  Batu|   Bursa|30003|\n",
      "|  2|Mehmet|İstanbul|30001|\n",
      "|  3|  Ayşe|   İzmir| null|\n",
      "|  4| Betül|    null| 3001|\n",
      "|  5| Şeyda|   Tokat|30006|\n",
      "+---+------+--------+-----+\n",
      "\n"
     ]
    },
    {
     "name": "stderr",
     "output_type": "stream",
     "text": [
      "\r",
      "[Stage 5:=======================================>                   (2 + 1) / 3]\r",
      "\r",
      "                                                                                \r"
     ]
    }
   ],
   "source": [
    "nulldropDF2 = nullDF.dropna(\"all\")\n",
    "nulldropDF2.show() # all'da ise sadece tüm değerler null olduğunda siler yani ıd name city ve pin null olursa siler"
   ]
  },
  {
   "cell_type": "code",
   "execution_count": 7,
   "id": "f343fde2",
   "metadata": {},
   "outputs": [
    {
     "name": "stderr",
     "output_type": "stream",
     "text": [
      "\r",
      "[Stage 7:>                                                          (0 + 3) / 3]\r"
     ]
    },
    {
     "name": "stdout",
     "output_type": "stream",
     "text": [
      "+---+------+--------+-----+\n",
      "| ID|  Name|    city|  pin|\n",
      "+---+------+--------+-----+\n",
      "|  1|  Batu|   Bursa|30003|\n",
      "|  2|Mehmet|İstanbul|30001|\n",
      "|  3|  Ayşe|   İzmir| null|\n",
      "|  4| Betül|    null| 3001|\n",
      "|  5| Şeyda|   Tokat|30006|\n",
      "+---+------+--------+-----+\n",
      "\n"
     ]
    },
    {
     "name": "stderr",
     "output_type": "stream",
     "text": [
      "\r",
      "[Stage 7:=======================================>                   (2 + 1) / 3]\r",
      "\r",
      "                                                                                \r"
     ]
    }
   ],
   "source": [
    "nulldropNameDF3 = nullDF.dropna(subset=\"Name\") #burda ise sadece Name'de eğer null değerler var ise siler\n",
    "#yni ıd city pin dolu olsun sadece name boş olsun siler fakat name dolu city boş olsa silmez\n",
    "nulldropNameDF3.show()"
   ]
  },
  {
   "cell_type": "code",
   "execution_count": 8,
   "id": "0290d12c",
   "metadata": {},
   "outputs": [
    {
     "name": "stdout",
     "output_type": "stream",
     "text": [
      "+---+------+--------+-----+\n",
      "| ID|  Name|    city|  pin|\n",
      "+---+------+--------+-----+\n",
      "|  1|  Batu|   Bursa|30003|\n",
      "|  2|Mehmet|İstanbul|30001|\n",
      "|  4| Betül|    null| 3001|\n",
      "|  5| Şeyda|   Tokat|30006|\n",
      "+---+------+--------+-----+\n",
      "\n"
     ]
    },
    {
     "name": "stderr",
     "output_type": "stream",
     "text": [
      "\r",
      "[Stage 9:>                                                          (0 + 3) / 3]\r",
      "\r",
      "                                                                                \r"
     ]
    }
   ],
   "source": [
    "nulldropNameDF4 = nullDF.dropna(subset=(\"Name\",\"pin\")) # eğer name ve pinde boşluk varsa onları siler\n",
    "nulldropNameDF4.show()"
   ]
  },
  {
   "cell_type": "code",
   "execution_count": 9,
   "id": "516007e3",
   "metadata": {},
   "outputs": [
    {
     "name": "stdout",
     "output_type": "stream",
     "text": [
      "+---+------+--------+-----+\n",
      "| ID|  Name|    city|  pin|\n",
      "+---+------+--------+-----+\n",
      "|  1|  Batu|   Bursa|30003|\n",
      "|  2|Mehmet|İstanbul|30001|\n",
      "|  3|  Ayşe|   İzmir| null|\n",
      "|  4| Betül|    null| 3001|\n",
      "|  5| Şeyda|   Tokat|30006|\n",
      "+---+------+--------+-----+\n",
      "\n"
     ]
    },
    {
     "name": "stderr",
     "output_type": "stream",
     "text": [
      "\r",
      "[Stage 11:>                                                         (0 + 3) / 3]\r",
      "\r",
      "                                                                                \r"
     ]
    }
   ],
   "source": [
    "nulldropNameDF5 = nullDF.dropna(thresh=2,subset=(\"ID\",\"Name\",\"city\",\"pin\"))\n",
    "nulldropNameDF5.show()"
   ]
  },
  {
   "cell_type": "code",
   "execution_count": 10,
   "id": "ae7fc591",
   "metadata": {},
   "outputs": [
    {
     "name": "stdout",
     "output_type": "stream",
     "text": [
      "+---+------+--------+-----+\n",
      "| ID|  Name|    city|  pin|\n",
      "+---+------+--------+-----+\n",
      "|  1|  Batu|   Bursa|30003|\n",
      "|  2|Mehmet|İstanbul|30001|\n",
      "|  3|  Ayşe|   İzmir| null|\n",
      "|  4| Betül|    null| 3001|\n",
      "|  5| Şeyda|   Tokat|30006|\n",
      "+---+------+--------+-----+\n",
      "\n"
     ]
    },
    {
     "name": "stderr",
     "output_type": "stream",
     "text": [
      "\r",
      "[Stage 13:>                                                         (0 + 3) / 3]\r",
      "\r",
      "                                                                                \r"
     ]
    }
   ],
   "source": [
    "nulldropNameDF5 = nullDF.dropna(thresh=3,subset=(\"ID\",\"Name\",\"city\",\"pin\"))\n",
    "nulldropNameDF5.show()"
   ]
  },
  {
   "cell_type": "markdown",
   "id": "ae24318d",
   "metadata": {},
   "source": [
    "# Thresh'in mantığı şu; en az kaç değerin boş olması gerektiğini söylüyor yani thresh 2 dersen 1 tane null\n",
    "# olanı silmez 3 dersen 2 tane null olanı silmez"
   ]
  },
  {
   "cell_type": "code",
   "execution_count": 11,
   "id": "ad50e122",
   "metadata": {},
   "outputs": [
    {
     "name": "stdout",
     "output_type": "stream",
     "text": [
      "+----+------+--------+-----+\n",
      "|  ID|  Name|    city|  pin|\n",
      "+----+------+--------+-----+\n",
      "|   1|  Batu|   Bursa|30003|\n",
      "|   2|Mehmet|İstanbul|30001|\n",
      "|   3|  Ayşe|   İzmir| null|\n",
      "|   4| Betül|    null| 3001|\n",
      "|   5| Şeyda|   Tokat|30006|\n",
      "|null|  Batu|    null| null|\n",
      "+----+------+--------+-----+\n",
      "\n"
     ]
    },
    {
     "name": "stderr",
     "output_type": "stream",
     "text": [
      "\r",
      "[Stage 15:======================================>                   (2 + 1) / 3]\r",
      "\r",
      "                                                                                \r"
     ]
    }
   ],
   "source": [
    "nullfillNameDF = nullDF.na.fill({\"Name\":\"Batu\"}) # pyspark name'deki her boş değeri kontrol ediyor ve boş olan\n",
    "# name'lere batu yazıyor \n",
    "nullfillNameDF.show()"
   ]
  },
  {
   "cell_type": "code",
   "execution_count": 12,
   "id": "e6cd7b1f",
   "metadata": {},
   "outputs": [
    {
     "name": "stdout",
     "output_type": "stream",
     "text": [
      "+----+-----+----+----+\n",
      "|  ID| Name|city| pin|\n",
      "+----+-----+----+----+\n",
      "|   4|Betül|null|3001|\n",
      "|null| null|null|null|\n",
      "+----+-----+----+----+\n",
      "\n"
     ]
    },
    {
     "name": "stderr",
     "output_type": "stream",
     "text": [
      "\r",
      "[Stage 17:>                                                         (0 + 3) / 3]\r",
      "\r",
      "                                                                                \r"
     ]
    }
   ],
   "source": [
    "nullDF.filter(nullDF.city.isNull()).show()"
   ]
  },
  {
   "cell_type": "code",
   "execution_count": 13,
   "id": "b5265636",
   "metadata": {},
   "outputs": [
    {
     "name": "stderr",
     "output_type": "stream",
     "text": [
      "\r",
      "[Stage 19:>                                                         (0 + 3) / 3]\r",
      "\r",
      "                                                                                \r"
     ]
    },
    {
     "name": "stdout",
     "output_type": "stream",
     "text": [
      "+----+----+-----+----+\n",
      "|  ID|Name| city| pin|\n",
      "+----+----+-----+----+\n",
      "|   3|Ayşe|İzmir|null|\n",
      "|null|null| null|null|\n",
      "+----+----+-----+----+\n",
      "\n"
     ]
    }
   ],
   "source": [
    "nullDF.filter(nullDF.pin.isNull()).show()"
   ]
  },
  {
   "cell_type": "code",
   "execution_count": 14,
   "id": "ebbbc71b",
   "metadata": {},
   "outputs": [
    {
     "name": "stdout",
     "output_type": "stream",
     "text": [
      "+----+----+----+----+\n",
      "|  ID|Name|city| pin|\n",
      "+----+----+----+----+\n",
      "|null|null|null|null|\n",
      "+----+----+----+----+\n",
      "\n"
     ]
    },
    {
     "name": "stderr",
     "output_type": "stream",
     "text": [
      "\r",
      "[Stage 21:======================================>                   (2 + 1) / 3]\r",
      "\r",
      "                                                                                \r"
     ]
    }
   ],
   "source": [
    "nullDF.filter(nullDF.Name.isNull()).show()"
   ]
  },
  {
   "cell_type": "code",
   "execution_count": 15,
   "id": "f0aa0e1c",
   "metadata": {},
   "outputs": [
    {
     "name": "stdout",
     "output_type": "stream",
     "text": [
      "+---+------+--------+-----+\n",
      "| ID|  Name|    city|  pin|\n",
      "+---+------+--------+-----+\n",
      "|  1|  Batu|   Bursa|30003|\n",
      "|  2|Mehmet|İstanbul|30001|\n",
      "|  4| Betül|    null| 3001|\n",
      "|  5| Şeyda|   Tokat|30006|\n",
      "+---+------+--------+-----+\n",
      "\n"
     ]
    },
    {
     "name": "stderr",
     "output_type": "stream",
     "text": [
      "\r",
      "[Stage 23:======================================>                   (2 + 1) / 3]\r",
      "\r",
      "                                                                                \r"
     ]
    }
   ],
   "source": [
    "nullDF.filter(nullDF.pin.isNotNull()).show()"
   ]
  },
  {
   "cell_type": "code",
   "execution_count": 16,
   "id": "11817d13",
   "metadata": {},
   "outputs": [
    {
     "name": "stdout",
     "output_type": "stream",
     "text": [
      "+------+-----------+----+------+---------+\n",
      "|  name|    Subject|Mark|Status|Attedance|\n",
      "+------+-----------+----+------+---------+\n",
      "|Joseph|    Science|  86|     p|       90|\n",
      "|Martin|Mathematics|  90|     p|     null|\n",
      "| David|    English|  20|     F|       80|\n",
      "|  John|    Science|null|     F|     null|\n",
      "| Diana|       null|  30|     F|       50|\n",
      "|  Ania|Mathematics|null|  null|       70|\n",
      "+------+-----------+----+------+---------+\n",
      "\n"
     ]
    },
    {
     "name": "stderr",
     "output_type": "stream",
     "text": [
      "\r",
      "[Stage 25:======================================>                   (2 + 1) / 3]\r",
      "\r",
      "                                                                                \r"
     ]
    }
   ],
   "source": [
    "data_student = [(\"Joseph\",\"Science\",86,\"p\",90),\n",
    "                (\"Martin\",\"Mathematics\",90,\"p\",None),\n",
    "                (\"David\",\"English\",20,\"F\",80),\n",
    "                (\"John\",\"Science\",None,\"F\",None),\n",
    "                (\"Diana\",None,30,\"F\",50),\n",
    "                (\"Ania\",\"Mathematics\",None,None,70)]\n",
    "\n",
    "Schema=[\"name\",\"Subject\",\"Mark\",\"Status\",\"Attedance\"]\n",
    "df = spark.createDataFrame(data = data_student, schema = Schema)\n",
    "df.show()"
   ]
  },
  {
   "cell_type": "code",
   "execution_count": 17,
   "id": "754bbc01",
   "metadata": {},
   "outputs": [],
   "source": [
    "from pyspark.sql.functions import col"
   ]
  },
  {
   "cell_type": "code",
   "execution_count": 18,
   "id": "0b878da3",
   "metadata": {},
   "outputs": [
    {
     "name": "stdout",
     "output_type": "stream",
     "text": [
      "+----+-----------+----+------+---------+\n",
      "|name|    Subject|Mark|Status|Attedance|\n",
      "+----+-----------+----+------+---------+\n",
      "|John|    Science|null|     F|     null|\n",
      "|Ania|Mathematics|null|  null|       70|\n",
      "+----+-----------+----+------+---------+\n",
      "\n"
     ]
    },
    {
     "name": "stderr",
     "output_type": "stream",
     "text": [
      "\r",
      "[Stage 27:>                                                         (0 + 3) / 3]\r",
      "\r",
      "                                                                                \r"
     ]
    }
   ],
   "source": [
    "df2 = (df.filter(col(\"Mark\").isNull()))\n",
    "df2.show()"
   ]
  },
  {
   "cell_type": "code",
   "execution_count": 19,
   "id": "5293f31d",
   "metadata": {},
   "outputs": [
    {
     "name": "stdout",
     "output_type": "stream",
     "text": [
      "+------+-----------+----+------+---------+\n",
      "|  name|    Subject|Mark|Status|Attedance|\n",
      "+------+-----------+----+------+---------+\n",
      "|Joseph|    Science|  86|     p|       90|\n",
      "|Martin|Mathematics|  90|     p|     null|\n",
      "| David|    English|  20|     F|       80|\n",
      "| Diana|       null|  30|     F|       50|\n",
      "+------+-----------+----+------+---------+\n",
      "\n"
     ]
    }
   ],
   "source": [
    "df3 = (df.filter(df.Mark.isNotNull()))\n",
    "df3.show()"
   ]
  },
  {
   "cell_type": "code",
   "execution_count": 20,
   "id": "0ab01674",
   "metadata": {},
   "outputs": [
    {
     "name": "stderr",
     "output_type": "stream",
     "text": [
      "\r",
      "[Stage 31:>                                                         (0 + 3) / 3]\r"
     ]
    },
    {
     "name": "stdout",
     "output_type": "stream",
     "text": [
      "+------+-------+----+------+---------+\n",
      "|  name|Subject|Mark|Status|Attedance|\n",
      "+------+-------+----+------+---------+\n",
      "|Joseph|Science|  86|     p|       90|\n",
      "| David|English|  20|     F|       80|\n",
      "| Diana|   null|  30|     F|       50|\n",
      "+------+-------+----+------+---------+\n",
      "\n"
     ]
    },
    {
     "name": "stderr",
     "output_type": "stream",
     "text": [
      "\r",
      "[Stage 31:======================================>                   (2 + 1) / 3]\r",
      "\r",
      "                                                                                \r"
     ]
    }
   ],
   "source": [
    "df4 = (df.filter((df.Mark.isNotNull()) & (df.Attedance.isNotNull()))) # bu ikili filtreleme mark ve attedance\n",
    "# boş olmucak 2 side full olması lazım\n",
    "df4.show()"
   ]
  },
  {
   "cell_type": "code",
   "execution_count": 21,
   "id": "541fdb74",
   "metadata": {},
   "outputs": [
    {
     "name": "stdout",
     "output_type": "stream",
     "text": [
      "+------+-----------+----+------+---------+\n",
      "|  name|    Subject|Mark|Status|Attedance|\n",
      "+------+-----------+----+------+---------+\n",
      "|Joseph|    Science|  86|     p|       90|\n",
      "|Martin|Mathematics|  90|     p|     null|\n",
      "| David|    English|  20|     F|       80|\n",
      "| Diana|       null|  30|     F|       50|\n",
      "|  Ania|Mathematics|null|  null|       70|\n",
      "+------+-----------+----+------+---------+\n",
      "\n"
     ]
    },
    {
     "name": "stderr",
     "output_type": "stream",
     "text": [
      "\r",
      "[Stage 33:===================>                                      (1 + 2) / 3]\r",
      "\r",
      "                                                                                \r"
     ]
    }
   ],
   "source": [
    "df4 = (df.filter((df.Mark.isNotNull()) | (df.Attedance.isNotNull()))) #  bunun anlamı şu ikiside null olursa\n",
    "# getirme fakat biri bile dolu olursa getir sadece mark ve attedance için geçerli\n",
    "df4.show()"
   ]
  },
  {
   "cell_type": "code",
   "execution_count": 22,
   "id": "573f2edb",
   "metadata": {},
   "outputs": [
    {
     "name": "stdout",
     "output_type": "stream",
     "text": [
      "+------+-----------+----+------+---------+\n",
      "|  name|    Subject|Mark|Status|Attedance|\n",
      "+------+-----------+----+------+---------+\n",
      "|Joseph|    Science|  86|     p|       90|\n",
      "|Martin|Mathematics|  90|     p|        5|\n",
      "| David|    English|  20|     F|       80|\n",
      "|  John|    Science|   5|     F|        5|\n",
      "| Diana|       null|  30|     F|       50|\n",
      "|  Ania|Mathematics|   5|  null|       70|\n",
      "+------+-----------+----+------+---------+\n",
      "\n"
     ]
    }
   ],
   "source": [
    "df5 = (df.na.fill(value=5))\n",
    "df5.show()"
   ]
  },
  {
   "cell_type": "code",
   "execution_count": 23,
   "id": "d6fa1e15",
   "metadata": {},
   "outputs": [
    {
     "name": "stdout",
     "output_type": "stream",
     "text": [
      "+------+-----------+----+------+---------+\n",
      "|  name|    Subject|Mark|Status|Attedance|\n",
      "+------+-----------+----+------+---------+\n",
      "|Joseph|    Science|  86|     p|       90|\n",
      "|Martin|Mathematics|  90|     p|     null|\n",
      "| David|    English|  20|     F|       80|\n",
      "|  John|    Science|null|     F|     null|\n",
      "| Diana|         NA|  30|     F|       50|\n",
      "|  Ania|Mathematics|null|    NA|       70|\n",
      "+------+-----------+----+------+---------+\n",
      "\n"
     ]
    },
    {
     "name": "stderr",
     "output_type": "stream",
     "text": [
      "\r",
      "[Stage 37:======================================>                   (2 + 1) / 3]\r",
      "\r",
      "                                                                                \r"
     ]
    }
   ],
   "source": [
    "df6 = (df.na.fill(value=\"NA\"))\n",
    "df6.show()"
   ]
  },
  {
   "cell_type": "code",
   "execution_count": 24,
   "id": "c6f23116",
   "metadata": {},
   "outputs": [
    {
     "name": "stdout",
     "output_type": "stream",
     "text": [
      "+------+-----------+----+------+---------+\n",
      "|  name|    Subject|Mark|Status|Attedance|\n",
      "+------+-----------+----+------+---------+\n",
      "|Joseph|    Science|  86|     p|       90|\n",
      "|Martin|Mathematics|  90|     p|        5|\n",
      "| David|    English|  20|     F|       80|\n",
      "|  John|    Science|   5|     F|        5|\n",
      "| Diana|         NA|  30|     F|       50|\n",
      "|  Ania|Mathematics|   5|    NA|       70|\n",
      "+------+-----------+----+------+---------+\n",
      "\n"
     ]
    }
   ],
   "source": [
    "df5 = (df5.na.fill(value=\"NA\"))\n",
    "df5.show()"
   ]
  },
  {
   "cell_type": "code",
   "execution_count": 25,
   "id": "26c330ec",
   "metadata": {},
   "outputs": [
    {
     "name": "stdout",
     "output_type": "stream",
     "text": [
      "+------+-----------+----+------+---------+\n",
      "|  name|    Subject|Mark|Status|Attedance|\n",
      "+------+-----------+----+------+---------+\n",
      "|Joseph|    Science|  86|     p|       90|\n",
      "|Martin|Mathematics|  90|     p|       50|\n",
      "| David|    English|  20|     F|       80|\n",
      "|  John|    Science|   0|     F|       50|\n",
      "| Diana|    English|  30|     F|       50|\n",
      "|  Ania|Mathematics|   0|    NA|       70|\n",
      "+------+-----------+----+------+---------+\n",
      "\n"
     ]
    }
   ],
   "source": [
    "df7 = (df.na.fill({\"Mark\" : 0, \"Status\": \"NA\", \"Name\": \"No_Name\", \"Subject\": \"English\", \"Attedance\": 50}))\n",
    "df7.show()"
   ]
  },
  {
   "cell_type": "code",
   "execution_count": null,
   "id": "8a9aaca1",
   "metadata": {},
   "outputs": [],
   "source": []
  },
  {
   "cell_type": "code",
   "execution_count": null,
   "id": "50b88427",
   "metadata": {},
   "outputs": [],
   "source": []
  },
  {
   "cell_type": "code",
   "execution_count": null,
   "id": "0d0bf7f4",
   "metadata": {},
   "outputs": [],
   "source": []
  },
  {
   "cell_type": "code",
   "execution_count": null,
   "id": "8c696be0",
   "metadata": {},
   "outputs": [],
   "source": []
  },
  {
   "cell_type": "code",
   "execution_count": null,
   "id": "f05e9146",
   "metadata": {},
   "outputs": [],
   "source": []
  },
  {
   "cell_type": "code",
   "execution_count": null,
   "id": "7595ee5e",
   "metadata": {},
   "outputs": [],
   "source": []
  },
  {
   "cell_type": "code",
   "execution_count": null,
   "id": "85141cc3",
   "metadata": {},
   "outputs": [],
   "source": []
  },
  {
   "cell_type": "code",
   "execution_count": null,
   "id": "7bb4b452",
   "metadata": {},
   "outputs": [],
   "source": []
  },
  {
   "cell_type": "code",
   "execution_count": null,
   "id": "fea43f9e",
   "metadata": {},
   "outputs": [],
   "source": []
  },
  {
   "cell_type": "code",
   "execution_count": null,
   "id": "a239fe6e",
   "metadata": {},
   "outputs": [],
   "source": []
  },
  {
   "cell_type": "code",
   "execution_count": null,
   "id": "220838b8",
   "metadata": {},
   "outputs": [],
   "source": []
  }
 ],
 "metadata": {
  "kernelspec": {
   "display_name": "Python 3 (ipykernel)",
   "language": "python",
   "name": "python3"
  },
  "language_info": {
   "codemirror_mode": {
    "name": "ipython",
    "version": 3
   },
   "file_extension": ".py",
   "mimetype": "text/x-python",
   "name": "python",
   "nbconvert_exporter": "python",
   "pygments_lexer": "ipython3",
   "version": "3.10.6"
  }
 },
 "nbformat": 4,
 "nbformat_minor": 5
}
