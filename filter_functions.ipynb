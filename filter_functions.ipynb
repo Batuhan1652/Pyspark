{
 "cells": [
  {
   "cell_type": "code",
   "execution_count": 1,
   "id": "602a12a3",
   "metadata": {},
   "outputs": [],
   "source": [
    "import findspark\n",
    "findspark.init()"
   ]
  },
  {
   "cell_type": "code",
   "execution_count": 2,
   "id": "6c726caa",
   "metadata": {},
   "outputs": [
    {
     "name": "stdout",
     "output_type": "stream",
     "text": [
      "22/11/14 01:56:07 WARN Utils: Your hostname, batuhan-VirtualBox resolves to a loopback address: 127.0.1.1; using 10.0.2.15 instead (on interface enp0s3)\n",
      "22/11/14 01:56:07 WARN Utils: Set SPARK_LOCAL_IP if you need to bind to another address\n"
     ]
    },
    {
     "name": "stderr",
     "output_type": "stream",
     "text": [
      "Setting default log level to \"WARN\".\n",
      "To adjust logging level use sc.setLogLevel(newLevel). For SparkR, use setLogLevel(newLevel).\n"
     ]
    },
    {
     "name": "stdout",
     "output_type": "stream",
     "text": [
      "22/11/14 01:56:11 WARN NativeCodeLoader: Unable to load native-hadoop library for your platform... using builtin-java classes where applicable\n"
     ]
    }
   ],
   "source": [
    "from pyspark.sql import SparkSession\n",
    "\n",
    "spark = SparkSession.builder \\\n",
    ".appName(\"Filter Functions\") \\\n",
    ".master(\"local[4]\") \\\n",
    ".config(\"spark.driver.memory\",\"4g\") \\\n",
    ".config(\"spark.executor.memory\",\"4g\") \\\n",
    ".getOrCreate()"
   ]
  },
  {
   "cell_type": "code",
   "execution_count": 3,
   "id": "af1b47ab",
   "metadata": {},
   "outputs": [],
   "source": [
    "employee_data = [(10,\"Selin Tekin\",\"1999\",\"100\",\"F\",2000),\n",
    "                (20,\"Batu Metin\",\"1998\",\"200\",\"M\",8000),\n",
    "                (30,\"Harun Kalaycı\",\"2002\",\"100\",None,6000),\n",
    "                (40,\"Burcu Mercan\",\"2010\",\"100\",\"F\",7000),\n",
    "                (50,\"Onur Soylu\",\"2008\",\"400\",\"M\",1000),\n",
    "                (60,\"Seda Aslan\",\"2014\",\"500\",\"F\",5000),\n",
    "                (70,\"Cihat Yıldız\",\"2004\",\"600\",\"M\",5000),\n",
    "                (80,\"Onur Satık\",\"2006\",\"400\",\"M\",9000)]\n",
    "\n",
    "employee_schema = [\"employee_ıd\",\"name\",\"dob\",\"employee_dept_id\",\"gender\",\"salary\"]\n",
    "\n",
    "employeeDF = spark.createDataFrame(data = employee_data, schema = employee_schema)"
   ]
  },
  {
   "cell_type": "code",
   "execution_count": 4,
   "id": "23d9e3d2",
   "metadata": {},
   "outputs": [
    {
     "name": "stderr",
     "output_type": "stream",
     "text": [
      "                                                                                \r"
     ]
    },
    {
     "name": "stdout",
     "output_type": "stream",
     "text": [
      "+-----------+-------------+----+----------------+------+------+\n",
      "|employee_ıd|         name| dob|employee_dept_id|gender|salary|\n",
      "+-----------+-------------+----+----------------+------+------+\n",
      "|         10|  Selin Tekin|1999|             100|     F|  2000|\n",
      "|         20|   Batu Metin|1998|             200|     M|  8000|\n",
      "|         30|Harun Kalaycı|2002|             100|  null|  6000|\n",
      "|         40| Burcu Mercan|2010|             100|     F|  7000|\n",
      "|         50|   Onur Soylu|2008|             400|     M|  1000|\n",
      "|         60|   Seda Aslan|2014|             500|     F|  5000|\n",
      "|         70| Cihat Yıldız|2004|             600|     M|  5000|\n",
      "|         80|   Onur Satık|2006|             400|     M|  9000|\n",
      "+-----------+-------------+----+----------------+------+------+\n",
      "\n"
     ]
    }
   ],
   "source": [
    "employeeDF.show(10)"
   ]
  },
  {
   "cell_type": "code",
   "execution_count": 5,
   "id": "8ee7c119",
   "metadata": {},
   "outputs": [
    {
     "data": {
      "text/plain": [
       "DataFrame[employee_ıd: bigint, name: string, dob: string, employee_dept_id: string, gender: string, salary: bigint]"
      ]
     },
     "metadata": {},
     "output_type": "display_data"
    }
   ],
   "source": [
    "display(employeeDF)"
   ]
  },
  {
   "cell_type": "code",
   "execution_count": 6,
   "id": "c8b2906f",
   "metadata": {},
   "outputs": [
    {
     "name": "stderr",
     "output_type": "stream",
     "text": [
      "                                                                                \r"
     ]
    },
    {
     "data": {
      "text/html": [
       "<div>\n",
       "<style scoped>\n",
       "    .dataframe tbody tr th:only-of-type {\n",
       "        vertical-align: middle;\n",
       "    }\n",
       "\n",
       "    .dataframe tbody tr th {\n",
       "        vertical-align: top;\n",
       "    }\n",
       "\n",
       "    .dataframe thead th {\n",
       "        text-align: right;\n",
       "    }\n",
       "</style>\n",
       "<table border=\"1\" class=\"dataframe\">\n",
       "  <thead>\n",
       "    <tr style=\"text-align: right;\">\n",
       "      <th></th>\n",
       "      <th>employee_ıd</th>\n",
       "      <th>name</th>\n",
       "      <th>dob</th>\n",
       "      <th>employee_dept_id</th>\n",
       "      <th>gender</th>\n",
       "      <th>salary</th>\n",
       "    </tr>\n",
       "  </thead>\n",
       "  <tbody>\n",
       "    <tr>\n",
       "      <th>0</th>\n",
       "      <td>10</td>\n",
       "      <td>Selin Tekin</td>\n",
       "      <td>1999</td>\n",
       "      <td>100</td>\n",
       "      <td>F</td>\n",
       "      <td>2000</td>\n",
       "    </tr>\n",
       "    <tr>\n",
       "      <th>1</th>\n",
       "      <td>20</td>\n",
       "      <td>Batu Metin</td>\n",
       "      <td>1998</td>\n",
       "      <td>200</td>\n",
       "      <td>M</td>\n",
       "      <td>8000</td>\n",
       "    </tr>\n",
       "    <tr>\n",
       "      <th>2</th>\n",
       "      <td>30</td>\n",
       "      <td>Harun Kalaycı</td>\n",
       "      <td>2002</td>\n",
       "      <td>100</td>\n",
       "      <td>None</td>\n",
       "      <td>6000</td>\n",
       "    </tr>\n",
       "    <tr>\n",
       "      <th>3</th>\n",
       "      <td>40</td>\n",
       "      <td>Burcu Mercan</td>\n",
       "      <td>2010</td>\n",
       "      <td>100</td>\n",
       "      <td>F</td>\n",
       "      <td>7000</td>\n",
       "    </tr>\n",
       "    <tr>\n",
       "      <th>4</th>\n",
       "      <td>50</td>\n",
       "      <td>Onur Soylu</td>\n",
       "      <td>2008</td>\n",
       "      <td>400</td>\n",
       "      <td>M</td>\n",
       "      <td>1000</td>\n",
       "    </tr>\n",
       "  </tbody>\n",
       "</table>\n",
       "</div>"
      ],
      "text/plain": [
       "   employee_ıd           name   dob employee_dept_id gender  salary\n",
       "0           10    Selin Tekin  1999              100      F    2000\n",
       "1           20     Batu Metin  1998              200      M    8000\n",
       "2           30  Harun Kalaycı  2002              100   None    6000\n",
       "3           40   Burcu Mercan  2010              100      F    7000\n",
       "4           50     Onur Soylu  2008              400      M    1000"
      ]
     },
     "execution_count": 6,
     "metadata": {},
     "output_type": "execute_result"
    }
   ],
   "source": [
    "employeeDF.toPandas().head()"
   ]
  },
  {
   "cell_type": "code",
   "execution_count": 7,
   "id": "8bab3ebb",
   "metadata": {},
   "outputs": [
    {
     "name": "stdout",
     "output_type": "stream",
     "text": [
      "+-----------+------------+----+----------------+------+------+\n",
      "|employee_ıd|        name| dob|employee_dept_id|gender|salary|\n",
      "+-----------+------------+----+----------------+------+------+\n",
      "|         60|  Seda Aslan|2014|             500|     F|  5000|\n",
      "|         70|Cihat Yıldız|2004|             600|     M|  5000|\n",
      "+-----------+------------+----+----------------+------+------+\n",
      "\n"
     ]
    },
    {
     "name": "stderr",
     "output_type": "stream",
     "text": [
      "\r",
      "[Stage 4:===================>                                       (1 + 2) / 3]\r",
      "\r",
      "                                                                                \r"
     ]
    }
   ],
   "source": [
    "(employeeDF.filter(employeeDF.salary == 5000)).show() # ==, <, >, <=, >=, !="
   ]
  },
  {
   "cell_type": "code",
   "execution_count": 8,
   "id": "89d79d9f",
   "metadata": {},
   "outputs": [
    {
     "name": "stderr",
     "output_type": "stream",
     "text": [
      "\r",
      "[Stage 6:>                                                          (0 + 3) / 3]\r",
      "\r",
      "                                                                                \r"
     ]
    },
    {
     "name": "stdout",
     "output_type": "stream",
     "text": [
      "+-----------+-----------+----+----------------+------+------+\n",
      "|employee_ıd|       name| dob|employee_dept_id|gender|salary|\n",
      "+-----------+-----------+----+----------------+------+------+\n",
      "|         10|Selin Tekin|1999|             100|     F|  2000|\n",
      "|         50| Onur Soylu|2008|             400|     M|  1000|\n",
      "+-----------+-----------+----+----------------+------+------+\n",
      "\n"
     ]
    }
   ],
   "source": [
    "(employeeDF.filter(employeeDF.salary < 5000)).show()"
   ]
  },
  {
   "cell_type": "code",
   "execution_count": 9,
   "id": "b0bd7460",
   "metadata": {},
   "outputs": [
    {
     "name": "stdout",
     "output_type": "stream",
     "text": [
      "+-----------+-------------+----+----------------+------+------+\n",
      "|employee_ıd|         name| dob|employee_dept_id|gender|salary|\n",
      "+-----------+-------------+----+----------------+------+------+\n",
      "|         20|   Batu Metin|1998|             200|     M|  8000|\n",
      "|         30|Harun Kalaycı|2002|             100|  null|  6000|\n",
      "|         40| Burcu Mercan|2010|             100|     F|  7000|\n",
      "|         60|   Seda Aslan|2014|             500|     F|  5000|\n",
      "|         70| Cihat Yıldız|2004|             600|     M|  5000|\n",
      "|         80|   Onur Satık|2006|             400|     M|  9000|\n",
      "+-----------+-------------+----+----------------+------+------+\n",
      "\n"
     ]
    },
    {
     "name": "stderr",
     "output_type": "stream",
     "text": [
      "\r",
      "[Stage 8:=======================================>                   (2 + 1) / 3]\r",
      "\r",
      "                                                                                \r"
     ]
    }
   ],
   "source": [
    "(employeeDF.filter(employeeDF.salary >= 5000)).show()"
   ]
  },
  {
   "cell_type": "code",
   "execution_count": 10,
   "id": "9371631a",
   "metadata": {},
   "outputs": [
    {
     "name": "stdout",
     "output_type": "stream",
     "text": [
      "+-----------+-------------+----+----------------+------+------+\n",
      "|employee_ıd|         name| dob|employee_dept_id|gender|salary|\n",
      "+-----------+-------------+----+----------------+------+------+\n",
      "|         10|  Selin Tekin|1999|             100|     F|  2000|\n",
      "|         20|   Batu Metin|1998|             200|     M|  8000|\n",
      "|         30|Harun Kalaycı|2002|             100|  null|  6000|\n",
      "|         40| Burcu Mercan|2010|             100|     F|  7000|\n",
      "|         50|   Onur Soylu|2008|             400|     M|  1000|\n",
      "|         80|   Onur Satık|2006|             400|     M|  9000|\n",
      "+-----------+-------------+----+----------------+------+------+\n",
      "\n"
     ]
    },
    {
     "name": "stderr",
     "output_type": "stream",
     "text": [
      "\r",
      "[Stage 10:>                                                         (0 + 3) / 3]\r",
      "\r",
      "                                                                                \r"
     ]
    }
   ],
   "source": [
    "(employeeDF.filter(employeeDF.salary != 5000)).show()"
   ]
  },
  {
   "cell_type": "code",
   "execution_count": 11,
   "id": "167b4276",
   "metadata": {},
   "outputs": [
    {
     "name": "stderr",
     "output_type": "stream",
     "text": [
      "\r",
      "[Stage 12:>                                                         (0 + 3) / 3]\r",
      "\r",
      "                                                                                \r"
     ]
    },
    {
     "name": "stdout",
     "output_type": "stream",
     "text": [
      "+-----------+------------+----+----------------+------+------+\n",
      "|employee_ıd|        name| dob|employee_dept_id|gender|salary|\n",
      "+-----------+------------+----+----------------+------+------+\n",
      "|         10| Selin Tekin|1999|             100|     F|  2000|\n",
      "|         40|Burcu Mercan|2010|             100|     F|  7000|\n",
      "|         60|  Seda Aslan|2014|             500|     F|  5000|\n",
      "+-----------+------------+----+----------------+------+------+\n",
      "\n"
     ]
    }
   ],
   "source": [
    "(employeeDF.filter(employeeDF.gender == \"F\")).show()"
   ]
  },
  {
   "cell_type": "code",
   "execution_count": 12,
   "id": "b7d69a20",
   "metadata": {},
   "outputs": [
    {
     "name": "stdout",
     "output_type": "stream",
     "text": [
      "+-----------+------------+----+----------------+------+------+\n",
      "|employee_ıd|        name| dob|employee_dept_id|gender|salary|\n",
      "+-----------+------------+----+----------------+------+------+\n",
      "|         20|  Batu Metin|1998|             200|     M|  8000|\n",
      "|         50|  Onur Soylu|2008|             400|     M|  1000|\n",
      "|         70|Cihat Yıldız|2004|             600|     M|  5000|\n",
      "|         80|  Onur Satık|2006|             400|     M|  9000|\n",
      "+-----------+------------+----+----------------+------+------+\n",
      "\n"
     ]
    }
   ],
   "source": [
    "(employeeDF.filter(employeeDF.gender == \"M\")).show()"
   ]
  },
  {
   "cell_type": "code",
   "execution_count": 13,
   "id": "30eae550",
   "metadata": {},
   "outputs": [
    {
     "name": "stderr",
     "output_type": "stream",
     "text": [
      "                                                                                \r"
     ]
    },
    {
     "name": "stdout",
     "output_type": "stream",
     "text": [
      "+-----------+------------+----+----------------+------+------+\n",
      "|employee_ıd|        name| dob|employee_dept_id|gender|salary|\n",
      "+-----------+------------+----+----------------+------+------+\n",
      "|         70|Cihat Yıldız|2004|             600|     M|  5000|\n",
      "+-----------+------------+----+----------------+------+------+\n",
      "\n"
     ]
    }
   ],
   "source": [
    "(employeeDF.filter(employeeDF.name.endswith(\"z\"))).show()"
   ]
  },
  {
   "cell_type": "code",
   "execution_count": 14,
   "id": "e2c2a240",
   "metadata": {},
   "outputs": [
    {
     "name": "stderr",
     "output_type": "stream",
     "text": [
      "\r",
      "[Stage 18:>                                                         (0 + 3) / 3]\r",
      "\r",
      "                                                                                \r"
     ]
    },
    {
     "name": "stdout",
     "output_type": "stream",
     "text": [
      "+-----------+------------+----+----------------+------+------+\n",
      "|employee_ıd|        name| dob|employee_dept_id|gender|salary|\n",
      "+-----------+------------+----+----------------+------+------+\n",
      "|         20|  Batu Metin|1998|             200|     M|  8000|\n",
      "|         40|Burcu Mercan|2010|             100|     F|  7000|\n",
      "+-----------+------------+----+----------------+------+------+\n",
      "\n"
     ]
    }
   ],
   "source": [
    "(employeeDF.filter(employeeDF.name.startswith(\"B\"))).show()"
   ]
  },
  {
   "cell_type": "code",
   "execution_count": 15,
   "id": "c9d0efbe",
   "metadata": {},
   "outputs": [
    {
     "name": "stdout",
     "output_type": "stream",
     "text": [
      "+-----------+------------+----+----------------+------+------+\n",
      "|employee_ıd|        name| dob|employee_dept_id|gender|salary|\n",
      "+-----------+------------+----+----------------+------+------+\n",
      "|         10| Selin Tekin|1999|             100|     F|  2000|\n",
      "|         40|Burcu Mercan|2010|             100|     F|  7000|\n",
      "|         60|  Seda Aslan|2014|             500|     F|  5000|\n",
      "|         70|Cihat Yıldız|2004|             600|     M|  5000|\n",
      "+-----------+------------+----+----------------+------+------+\n",
      "\n"
     ]
    },
    {
     "name": "stderr",
     "output_type": "stream",
     "text": [
      "\r",
      "[Stage 20:======================================>                   (2 + 1) / 3]\r",
      "\r",
      "                                                                                \r"
     ]
    }
   ],
   "source": [
    "(employeeDF.filter((employeeDF.gender == \"F\") | (employeeDF.dob == 2004))).show() # will bring value \n",
    "# if at least 1 statement is true"
   ]
  },
  {
   "cell_type": "code",
   "execution_count": 16,
   "id": "c23fd6cc",
   "metadata": {},
   "outputs": [
    {
     "name": "stdout",
     "output_type": "stream",
     "text": [
      "+-----------+------------+----+----------------+------+------+\n",
      "|employee_ıd|        name| dob|employee_dept_id|gender|salary|\n",
      "+-----------+------------+----+----------------+------+------+\n",
      "|         70|Cihat Yıldız|2004|             600|     M|  5000|\n",
      "+-----------+------------+----+----------------+------+------+\n",
      "\n"
     ]
    },
    {
     "name": "stderr",
     "output_type": "stream",
     "text": [
      "\r",
      "[Stage 22:>                                                         (0 + 3) / 3]\r",
      "\r",
      "                                                                                \r"
     ]
    }
   ],
   "source": [
    "(employeeDF.filter((employeeDF.gender == \"M\") & (employeeDF.dob == 2004))).show()"
   ]
  },
  {
   "cell_type": "code",
   "execution_count": 17,
   "id": "12aed41e",
   "metadata": {},
   "outputs": [
    {
     "name": "stdout",
     "output_type": "stream",
     "text": [
      "+-----------+------------+----+----------------+------+------+\n",
      "|employee_ıd|        name| dob|employee_dept_id|gender|salary|\n",
      "+-----------+------------+----+----------------+------+------+\n",
      "|         70|Cihat Yıldız|2004|             600|     M|  5000|\n",
      "+-----------+------------+----+----------------+------+------+\n",
      "\n"
     ]
    },
    {
     "name": "stderr",
     "output_type": "stream",
     "text": [
      "\r",
      "[Stage 24:>                                                         (0 + 3) / 3]\r",
      "\r",
      "                                                                                \r"
     ]
    }
   ],
   "source": [
    "(employeeDF.filter((employeeDF.gender == \"M\") & (employeeDF.salary == 5000))).show() # will bring value\n",
    "# if both statement is true"
   ]
  },
  {
   "cell_type": "code",
   "execution_count": 18,
   "id": "afd1fa2c",
   "metadata": {},
   "outputs": [
    {
     "name": "stdout",
     "output_type": "stream",
     "text": [
      "+-----------+------------+----+----------------+------+------+\n",
      "|employee_ıd|        name| dob|employee_dept_id|gender|salary|\n",
      "+-----------+------------+----+----------------+------+------+\n",
      "|         20|  Batu Metin|1998|             200|     M|  8000|\n",
      "|         50|  Onur Soylu|2008|             400|     M|  1000|\n",
      "|         60|  Seda Aslan|2014|             500|     F|  5000|\n",
      "|         70|Cihat Yıldız|2004|             600|     M|  5000|\n",
      "|         80|  Onur Satık|2006|             400|     M|  9000|\n",
      "+-----------+------------+----+----------------+------+------+\n",
      "\n"
     ]
    },
    {
     "name": "stderr",
     "output_type": "stream",
     "text": [
      "\r",
      "[Stage 26:>                                                         (0 + 3) / 3]\r",
      "\r",
      "                                                                                \r"
     ]
    }
   ],
   "source": [
    "(employeeDF.filter((employeeDF.gender == \"M\") | (employeeDF.salary == 5000))).show() \n"
   ]
  },
  {
   "cell_type": "code",
   "execution_count": 19,
   "id": "a3f9f6dc",
   "metadata": {},
   "outputs": [
    {
     "name": "stdout",
     "output_type": "stream",
     "text": [
      "+-----------+-------------+----+----------------+------+------+\n",
      "|employee_ıd|         name| dob|employee_dept_id|gender|salary|\n",
      "+-----------+-------------+----+----------------+------+------+\n",
      "|         20|   Batu Metin|1998|             200|     M|  8000|\n",
      "|         30|Harun Kalaycı|2002|             100|  null|  6000|\n",
      "|         60|   Seda Aslan|2014|             500|     F|  5000|\n",
      "|         70| Cihat Yıldız|2004|             600|     M|  5000|\n",
      "+-----------+-------------+----+----------------+------+------+\n",
      "\n"
     ]
    },
    {
     "name": "stderr",
     "output_type": "stream",
     "text": [
      "\r",
      "[Stage 28:======================================>                   (2 + 1) / 3]\r",
      "\r",
      "                                                                                \r"
     ]
    }
   ],
   "source": [
    "(employeeDF.filter(employeeDF.salary.isin(6000,8000,5000) )).show()"
   ]
  },
  {
   "cell_type": "code",
   "execution_count": 20,
   "id": "7d8676f5",
   "metadata": {},
   "outputs": [
    {
     "name": "stdout",
     "output_type": "stream",
     "text": [
      "+-----------+----------+----+----------------+------+------+\n",
      "|employee_ıd|      name| dob|employee_dept_id|gender|salary|\n",
      "+-----------+----------+----+----------------+------+------+\n",
      "|         20|Batu Metin|1998|             200|     M|  8000|\n",
      "+-----------+----------+----+----------------+------+------+\n",
      "\n"
     ]
    }
   ],
   "source": [
    "(employeeDF.filter(employeeDF.name.like(\"%Batu Metin\"))).show()"
   ]
  },
  {
   "cell_type": "code",
   "execution_count": 21,
   "id": "12316c0f",
   "metadata": {},
   "outputs": [
    {
     "name": "stdout",
     "output_type": "stream",
     "text": [
      "+-----------+----------+----+----------------+------+------+\n",
      "|employee_ıd|      name| dob|employee_dept_id|gender|salary|\n",
      "+-----------+----------+----+----------------+------+------+\n",
      "|         50|Onur Soylu|2008|             400|     M|  1000|\n",
      "|         80|Onur Satık|2006|             400|     M|  9000|\n",
      "+-----------+----------+----+----------------+------+------+\n",
      "\n"
     ]
    },
    {
     "name": "stderr",
     "output_type": "stream",
     "text": [
      "\r",
      "[Stage 32:===================>                                      (1 + 2) / 3]\r",
      "\r",
      "                                                                                \r"
     ]
    }
   ],
   "source": [
    "(employeeDF.filter(employeeDF.name.like(\"%Onur%\"))).show() # if you put put two percent sings the filter\n",
    "# will be more smoothly"
   ]
  },
  {
   "cell_type": "code",
   "execution_count": 22,
   "id": "cf8c227e",
   "metadata": {},
   "outputs": [
    {
     "name": "stdout",
     "output_type": "stream",
     "text": [
      "+-----------+----+---+----------------+------+------+\n",
      "|employee_ıd|name|dob|employee_dept_id|gender|salary|\n",
      "+-----------+----+---+----------------+------+------+\n",
      "+-----------+----+---+----------------+------+------+\n",
      "\n"
     ]
    },
    {
     "name": "stderr",
     "output_type": "stream",
     "text": [
      "\r",
      "[Stage 34:===================>                                      (1 + 2) / 3]\r",
      "\r",
      "                                                                                \r"
     ]
    }
   ],
   "source": [
    "(employeeDF.filter(employeeDF.name.like(\"%Onur\"))).show() # if you put one percent sing the filter must be\n",
    "# completely true"
   ]
  },
  {
   "cell_type": "code",
   "execution_count": null,
   "id": "ab0dd53f",
   "metadata": {},
   "outputs": [],
   "source": []
  },
  {
   "cell_type": "code",
   "execution_count": null,
   "id": "a6f0c09f",
   "metadata": {},
   "outputs": [],
   "source": []
  },
  {
   "cell_type": "code",
   "execution_count": null,
   "id": "8599043a",
   "metadata": {},
   "outputs": [],
   "source": []
  }
 ],
 "metadata": {
  "kernelspec": {
   "display_name": "Python 3 (ipykernel)",
   "language": "python",
   "name": "python3"
  },
  "language_info": {
   "codemirror_mode": {
    "name": "ipython",
    "version": 3
   },
   "file_extension": ".py",
   "mimetype": "text/x-python",
   "name": "python",
   "nbconvert_exporter": "python",
   "pygments_lexer": "ipython3",
   "version": "3.10.6"
  }
 },
 "nbformat": 4,
 "nbformat_minor": 5
}
