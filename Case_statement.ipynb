{
 "cells": [
  {
   "cell_type": "code",
   "execution_count": 1,
   "id": "fa4a9abb",
   "metadata": {},
   "outputs": [],
   "source": [
    "import findspark\n",
    "findspark.init()"
   ]
  },
  {
   "cell_type": "code",
   "execution_count": 2,
   "id": "7ad7c225",
   "metadata": {},
   "outputs": [
    {
     "name": "stdout",
     "output_type": "stream",
     "text": [
      "22/11/13 05:30:09 WARN Utils: Your hostname, batuhan-VirtualBox resolves to a loopback address: 127.0.1.1; using 10.0.2.15 instead (on interface enp0s3)\n",
      "22/11/13 05:30:09 WARN Utils: Set SPARK_LOCAL_IP if you need to bind to another address\n"
     ]
    },
    {
     "name": "stderr",
     "output_type": "stream",
     "text": [
      "Setting default log level to \"WARN\".\n",
      "To adjust logging level use sc.setLogLevel(newLevel). For SparkR, use setLogLevel(newLevel).\n"
     ]
    },
    {
     "name": "stdout",
     "output_type": "stream",
     "text": [
      "22/11/13 05:30:10 WARN NativeCodeLoader: Unable to load native-hadoop library for your platform... using builtin-java classes where applicable\n",
      "22/11/13 05:30:13 WARN Utils: Service 'SparkUI' could not bind on port 4040. Attempting port 4041.\n"
     ]
    }
   ],
   "source": [
    "from pyspark.sql import SparkSession\n",
    "\n",
    "spark = SparkSession.builder \\\n",
    ".master(\"local[4]\") \\\n",
    ".appName(\"Case_Situations\") \\\n",
    ".config(\"spark.driver.memory\",\"8g\") \\\n",
    ".config(\"spark.executor.memory\",\"8g\") \\\n",
    ".getOrCreate()"
   ]
  },
  {
   "cell_type": "code",
   "execution_count": 3,
   "id": "305ae120",
   "metadata": {},
   "outputs": [],
   "source": [
    "data = [(\"Selin\",\"Science\",80,\"P\",90),\n",
    "                (\"Batu\",\"Math\",90,\"P\",70),\n",
    "                (\"Harun\",\"English\",20,\"F\",70),\n",
    "                (\"Burcu\",\"Science\",45,\"F\",75),\n",
    "                (\"Onur\",\"Math\",30,\"F\",50),\n",
    "                (\"Seda\",\"Math\",None,\"NA\",70),\n",
    "                ]\n",
    "\n",
    "student_schema = [\"Name\",\"Subject\",\"Mark\",\"Status\",\"Attendance\"]\n",
    "\n",
    "df = spark.createDataFrame(data = data, schema = student_schema)"
   ]
  },
  {
   "cell_type": "code",
   "execution_count": 4,
   "id": "5d1e16a2",
   "metadata": {},
   "outputs": [
    {
     "name": "stderr",
     "output_type": "stream",
     "text": [
      "                                                                                \r"
     ]
    },
    {
     "name": "stdout",
     "output_type": "stream",
     "text": [
      "+-----+-------+----+------+----------+\n",
      "| Name|Subject|Mark|Status|Attendance|\n",
      "+-----+-------+----+------+----------+\n",
      "|Selin|Science|  80|     P|        90|\n",
      "| Batu|   Math|  90|     P|        70|\n",
      "|Harun|English|  20|     F|        70|\n",
      "|Burcu|Science|  45|     F|        75|\n",
      "| Onur|   Math|  30|     F|        50|\n",
      "| Seda|   Math|null|    NA|        70|\n",
      "+-----+-------+----+------+----------+\n",
      "\n"
     ]
    }
   ],
   "source": [
    "df.show()"
   ]
  },
  {
   "cell_type": "markdown",
   "id": "7a4579c7",
   "metadata": {},
   "source": [
    "# Update the existing Column"
   ]
  },
  {
   "cell_type": "code",
   "execution_count": 5,
   "id": "293e91c3",
   "metadata": {},
   "outputs": [
    {
     "name": "stdout",
     "output_type": "stream",
     "text": [
      "+-----+-------+----+-------+----------+\n",
      "| Name|Subject|Mark| Status|Attendance|\n",
      "+-----+-------+----+-------+----------+\n",
      "|Selin|Science|  80|   Pass|        90|\n",
      "| Batu|   Math|  90|   Pass|        70|\n",
      "|Harun|English|  20|   Fail|        70|\n",
      "|Burcu|Science|  45|   Fail|        75|\n",
      "| Onur|   Math|  30|   Fail|        50|\n",
      "| Seda|   Math|null|Absente|        70|\n",
      "+-----+-------+----+-------+----------+\n",
      "\n"
     ]
    }
   ],
   "source": [
    "from pyspark.sql.functions import when\n",
    "df1 = df.withColumn(\"Status\", when(df.Mark >= 50, \"Pass\")\n",
    "                   .when(df.Mark <50, \"Fail\")\n",
    "                   .otherwise(\"Absente\"))\n",
    "df1.show()"
   ]
  },
  {
   "cell_type": "markdown",
   "id": "90b0f152",
   "metadata": {},
   "source": [
    "# Create a New Column"
   ]
  },
  {
   "cell_type": "code",
   "execution_count": 6,
   "id": "2b86baee",
   "metadata": {},
   "outputs": [
    {
     "name": "stderr",
     "output_type": "stream",
     "text": [
      "\r",
      "[Stage 4:>                                                          (0 + 1) / 1]\r",
      "\r",
      "                                                                                \r"
     ]
    },
    {
     "name": "stdout",
     "output_type": "stream",
     "text": [
      "+-----+-------+----+------+----------+----------+\n",
      "| Name|Subject|Mark|Status|Attendance|New Status|\n",
      "+-----+-------+----+------+----------+----------+\n",
      "|Selin|Science|  80|     P|        90|      Pass|\n",
      "| Batu|   Math|  90|     P|        70|      Pass|\n",
      "|Harun|English|  20|     F|        70|      Fail|\n",
      "|Burcu|Science|  45|     F|        75|      Fail|\n",
      "| Onur|   Math|  30|     F|        50|      Fail|\n",
      "| Seda|   Math|null|    NA|        70|  Absentee|\n",
      "+-----+-------+----+------+----------+----------+\n",
      "\n"
     ]
    }
   ],
   "source": [
    "df2 = df.withColumn(\"New Status\", when(df.Mark >= 50, \"Pass\")\n",
    "                   .when(df.Mark < 50, \"Fail\")\n",
    "                   .otherwise(\"Absentee\"))\n",
    "df2.show()"
   ]
  },
  {
   "cell_type": "markdown",
   "id": "950978f1",
   "metadata": {},
   "source": [
    "# Multi-Conditions AND & OR Operators \n",
    "\n",
    "# ==> | operator at least one case should provide\n",
    "\n",
    "# ==> & operator bot of cases should provide"
   ]
  },
  {
   "cell_type": "code",
   "execution_count": 7,
   "id": "f4f1080e",
   "metadata": {},
   "outputs": [
    {
     "name": "stdout",
     "output_type": "stream",
     "text": [
      "+-----+-------+----+------+----------+---------+\n",
      "| Name|Subject|Mark|Status|Attendance|    Grade|\n",
      "+-----+-------+----+------+----------+---------+\n",
      "|Selin|Science|  80|     P|        90|Very Good|\n",
      "| Batu|   Math|  90|     P|        70|Very Good|\n",
      "|Harun|English|  20|     F|        70|  Average|\n",
      "|Burcu|Science|  45|     F|        75|  Average|\n",
      "| Onur|   Math|  30|     F|        50|  Average|\n",
      "| Seda|   Math|null|    NA|        70|  Average|\n",
      "+-----+-------+----+------+----------+---------+\n",
      "\n"
     ]
    },
    {
     "name": "stderr",
     "output_type": "stream",
     "text": [
      "\r",
      "[Stage 7:=======================================>                   (2 + 1) / 3]\r",
      "\r",
      "                                                                                \r"
     ]
    }
   ],
   "source": [
    "df3 = df.withColumn(\"Grade\", when((df.Mark >= 90) | (df.Attendance >= 90), \"Very Good\")\n",
    "                    .when((df.Mark >= 50) & (df.Attendance >=70), \"Good\")\n",
    "                    .otherwise(\"Average\"))\n",
    "\n",
    "df3.show()"
   ]
  },
  {
   "cell_type": "code",
   "execution_count": 8,
   "id": "589d0603",
   "metadata": {},
   "outputs": [
    {
     "name": "stdout",
     "output_type": "stream",
     "text": [
      "+-----+-------+----+------+----------+---------+\n",
      "| Name|Subject|Mark|Status|Attendance|    Grade|\n",
      "+-----+-------+----+------+----------+---------+\n",
      "|Selin|Science|  80|     P|        90|Very Good|\n",
      "| Batu|   Math|  90|     P|        70|     Good|\n",
      "|Harun|English|  20|     F|        70|     Good|\n",
      "|Burcu|Science|  45|     F|        75|     Good|\n",
      "| Onur|   Math|  30|     F|        50|     Good|\n",
      "| Seda|   Math|null|    NA|        70|     Good|\n",
      "+-----+-------+----+------+----------+---------+\n",
      "\n"
     ]
    }
   ],
   "source": [
    "df4 = df.withColumn(\"Grade\", when((df.Mark >= 80) & (df.Attendance >= 80), \"Very Good\")\n",
    "                    .when((df.Mark >= 50) | (df.Attendance >=50), \"Good\")\n",
    "                    .otherwise(\"Average\"))\n",
    "\n",
    "df4.show()"
   ]
  },
  {
   "cell_type": "code",
   "execution_count": null,
   "id": "f7784702",
   "metadata": {},
   "outputs": [],
   "source": []
  }
 ],
 "metadata": {
  "kernelspec": {
   "display_name": "Python 3 (ipykernel)",
   "language": "python",
   "name": "python3"
  },
  "language_info": {
   "codemirror_mode": {
    "name": "ipython",
    "version": 3
   },
   "file_extension": ".py",
   "mimetype": "text/x-python",
   "name": "python",
   "nbconvert_exporter": "python",
   "pygments_lexer": "ipython3",
   "version": "3.10.6"
  }
 },
 "nbformat": 4,
 "nbformat_minor": 5
}
